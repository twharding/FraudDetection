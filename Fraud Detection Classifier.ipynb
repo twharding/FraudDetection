{
 "cells": [
  {
   "cell_type": "code",
   "execution_count": 16,
   "metadata": {},
   "outputs": [],
   "source": [
    "import matplotlib.pyplot as plt\n",
    "import numpy as np\n",
    "import pandas as pd\n",
    "import seaborn as sns\n",
    "from IPython.display import SVG\n",
    "from graphviz import Source\n",
    "from IPython.display import display\n",
    "from sklearn.model_selection import StratifiedKFold\n",
    "from sklearn.preprocessing import StandardScaler\n",
    "from sklearn import tree, linear_model, svm, neighbors, naive_bayes, neural_network, ensemble, gaussian_process, discriminant_analysis\n",
    "from sklearn.metrics import f1_score, make_scorer, confusion_matrix, auc, precision_recall_curve"
   ]
  },
  {
   "cell_type": "markdown",
   "metadata": {},
   "source": [
    "### Exploratory Data Analysis"
   ]
  },
  {
   "cell_type": "code",
   "execution_count": 23,
   "metadata": {},
   "outputs": [
    {
     "data": {
      "text/plain": [
       "False"
      ]
     },
     "execution_count": 23,
     "metadata": {},
     "output_type": "execute_result"
    }
   ],
   "source": [
    "training = pd.read_csv('training.csv')\n",
    "test = pd.read_csv('test.csv')\n",
    "training.isnull().values.any()"
   ]
  },
  {
   "cell_type": "markdown",
   "metadata": {},
   "source": [
    "There are no missing values in the training set."
   ]
  },
  {
   "cell_type": "code",
   "execution_count": 24,
   "metadata": {},
   "outputs": [
    {
     "data": {
      "text/html": [
       "<div>\n",
       "<style scoped>\n",
       "    .dataframe tbody tr th:only-of-type {\n",
       "        vertical-align: middle;\n",
       "    }\n",
       "\n",
       "    .dataframe tbody tr th {\n",
       "        vertical-align: top;\n",
       "    }\n",
       "\n",
       "    .dataframe thead th {\n",
       "        text-align: right;\n",
       "    }\n",
       "</style>\n",
       "<table border=\"1\" class=\"dataframe\">\n",
       "  <thead>\n",
       "    <tr style=\"text-align: right;\">\n",
       "      <th></th>\n",
       "      <th>TransactionId</th>\n",
       "      <th>BatchId</th>\n",
       "      <th>AccountId</th>\n",
       "      <th>SubscriptionId</th>\n",
       "      <th>CustomerId</th>\n",
       "      <th>CurrencyCode</th>\n",
       "      <th>CountryCode</th>\n",
       "      <th>ProviderId</th>\n",
       "      <th>ProductId</th>\n",
       "      <th>ProductCategory</th>\n",
       "      <th>ChannelId</th>\n",
       "      <th>Amount</th>\n",
       "      <th>Value</th>\n",
       "      <th>TransactionStartTime</th>\n",
       "      <th>PricingStrategy</th>\n",
       "      <th>FraudResult</th>\n",
       "    </tr>\n",
       "  </thead>\n",
       "  <tbody>\n",
       "    <tr>\n",
       "      <th>0</th>\n",
       "      <td>TransactionId_76871</td>\n",
       "      <td>BatchId_36123</td>\n",
       "      <td>AccountId_3957</td>\n",
       "      <td>SubscriptionId_887</td>\n",
       "      <td>CustomerId_4406</td>\n",
       "      <td>UGX</td>\n",
       "      <td>256</td>\n",
       "      <td>ProviderId_6</td>\n",
       "      <td>ProductId_10</td>\n",
       "      <td>airtime</td>\n",
       "      <td>ChannelId_3</td>\n",
       "      <td>1000.0</td>\n",
       "      <td>1000</td>\n",
       "      <td>2018-11-15T02:18:49Z</td>\n",
       "      <td>2</td>\n",
       "      <td>0</td>\n",
       "    </tr>\n",
       "    <tr>\n",
       "      <th>1</th>\n",
       "      <td>TransactionId_73770</td>\n",
       "      <td>BatchId_15642</td>\n",
       "      <td>AccountId_4841</td>\n",
       "      <td>SubscriptionId_3829</td>\n",
       "      <td>CustomerId_4406</td>\n",
       "      <td>UGX</td>\n",
       "      <td>256</td>\n",
       "      <td>ProviderId_4</td>\n",
       "      <td>ProductId_6</td>\n",
       "      <td>financial_services</td>\n",
       "      <td>ChannelId_2</td>\n",
       "      <td>-20.0</td>\n",
       "      <td>20</td>\n",
       "      <td>2018-11-15T02:19:08Z</td>\n",
       "      <td>2</td>\n",
       "      <td>0</td>\n",
       "    </tr>\n",
       "    <tr>\n",
       "      <th>2</th>\n",
       "      <td>TransactionId_26203</td>\n",
       "      <td>BatchId_53941</td>\n",
       "      <td>AccountId_4229</td>\n",
       "      <td>SubscriptionId_222</td>\n",
       "      <td>CustomerId_4683</td>\n",
       "      <td>UGX</td>\n",
       "      <td>256</td>\n",
       "      <td>ProviderId_6</td>\n",
       "      <td>ProductId_1</td>\n",
       "      <td>airtime</td>\n",
       "      <td>ChannelId_3</td>\n",
       "      <td>500.0</td>\n",
       "      <td>500</td>\n",
       "      <td>2018-11-15T02:44:21Z</td>\n",
       "      <td>2</td>\n",
       "      <td>0</td>\n",
       "    </tr>\n",
       "    <tr>\n",
       "      <th>3</th>\n",
       "      <td>TransactionId_380</td>\n",
       "      <td>BatchId_102363</td>\n",
       "      <td>AccountId_648</td>\n",
       "      <td>SubscriptionId_2185</td>\n",
       "      <td>CustomerId_988</td>\n",
       "      <td>UGX</td>\n",
       "      <td>256</td>\n",
       "      <td>ProviderId_1</td>\n",
       "      <td>ProductId_21</td>\n",
       "      <td>utility_bill</td>\n",
       "      <td>ChannelId_3</td>\n",
       "      <td>20000.0</td>\n",
       "      <td>21800</td>\n",
       "      <td>2018-11-15T03:32:55Z</td>\n",
       "      <td>2</td>\n",
       "      <td>0</td>\n",
       "    </tr>\n",
       "    <tr>\n",
       "      <th>4</th>\n",
       "      <td>TransactionId_28195</td>\n",
       "      <td>BatchId_38780</td>\n",
       "      <td>AccountId_4841</td>\n",
       "      <td>SubscriptionId_3829</td>\n",
       "      <td>CustomerId_988</td>\n",
       "      <td>UGX</td>\n",
       "      <td>256</td>\n",
       "      <td>ProviderId_4</td>\n",
       "      <td>ProductId_6</td>\n",
       "      <td>financial_services</td>\n",
       "      <td>ChannelId_2</td>\n",
       "      <td>-644.0</td>\n",
       "      <td>644</td>\n",
       "      <td>2018-11-15T03:34:21Z</td>\n",
       "      <td>2</td>\n",
       "      <td>0</td>\n",
       "    </tr>\n",
       "  </tbody>\n",
       "</table>\n",
       "</div>"
      ],
      "text/plain": [
       "         TransactionId         BatchId       AccountId       SubscriptionId  \\\n",
       "0  TransactionId_76871   BatchId_36123  AccountId_3957   SubscriptionId_887   \n",
       "1  TransactionId_73770   BatchId_15642  AccountId_4841  SubscriptionId_3829   \n",
       "2  TransactionId_26203   BatchId_53941  AccountId_4229   SubscriptionId_222   \n",
       "3    TransactionId_380  BatchId_102363   AccountId_648  SubscriptionId_2185   \n",
       "4  TransactionId_28195   BatchId_38780  AccountId_4841  SubscriptionId_3829   \n",
       "\n",
       "        CustomerId CurrencyCode  CountryCode    ProviderId     ProductId  \\\n",
       "0  CustomerId_4406          UGX          256  ProviderId_6  ProductId_10   \n",
       "1  CustomerId_4406          UGX          256  ProviderId_4   ProductId_6   \n",
       "2  CustomerId_4683          UGX          256  ProviderId_6   ProductId_1   \n",
       "3   CustomerId_988          UGX          256  ProviderId_1  ProductId_21   \n",
       "4   CustomerId_988          UGX          256  ProviderId_4   ProductId_6   \n",
       "\n",
       "      ProductCategory    ChannelId   Amount  Value  TransactionStartTime  \\\n",
       "0             airtime  ChannelId_3   1000.0   1000  2018-11-15T02:18:49Z   \n",
       "1  financial_services  ChannelId_2    -20.0     20  2018-11-15T02:19:08Z   \n",
       "2             airtime  ChannelId_3    500.0    500  2018-11-15T02:44:21Z   \n",
       "3        utility_bill  ChannelId_3  20000.0  21800  2018-11-15T03:32:55Z   \n",
       "4  financial_services  ChannelId_2   -644.0    644  2018-11-15T03:34:21Z   \n",
       "\n",
       "   PricingStrategy  FraudResult  \n",
       "0                2            0  \n",
       "1                2            0  \n",
       "2                2            0  \n",
       "3                2            0  \n",
       "4                2            0  "
      ]
     },
     "execution_count": 24,
     "metadata": {},
     "output_type": "execute_result"
    }
   ],
   "source": [
    "training.head()"
   ]
  },
  {
   "cell_type": "markdown",
   "metadata": {},
   "source": [
    "### Feature Definitions\n",
    "| Feature Name          | Definition                                                                                                        |\n",
    "|----------------------|-------------------------------------------------------------------------------------------------------------------|\n",
    "| TransactionId        | Unique transaction identifier on platform                                                                      |\n",
    "| BatchId              | Unique number assigned to a batch of transactions for processing                                                  |\n",
    "| AccountId            | Unique number identifying the customer on platform                                                                |\n",
    "| SubscriptionId       | Unique number identifying the customer subscription                                                               |\n",
    "| CustomerId           | Unique identifier attached to Account                                                                             |\n",
    "| CurrencyCode         | Country currency                                                                                                  |\n",
    "| CountryCode          | Numerical geographical code of country                                                                            |\n",
    "| ProviderId           | Source provider of Item ÔøΩbought.                                                                                |\n",
    "| ProductId            | Item name being bought.                                                                                           |\n",
    "| ProductCategory      | ProductIds are organized into these broader product categories.                                                   |\n",
    "| ChannelId            | Identifies if customer used web,Android, IOS, pay later or checkout.                                              |\n",
    "| Amount               | Value of the transaction. Positive for debits from customer account and negative for credit into customer account |\n",
    "| Value                | Absolute value of the amount                                                                                      |\n",
    "| TransactionStartTime | Transaction start time                                                                                            |\n",
    "| PricingStrategy      | Category of Xente's pricing structure for merchants                                                               |\n",
    "| FraudResult          | Fraud status of transaction 1 -yes or 0-No                                                                        |"
   ]
  },
  {
   "cell_type": "code",
   "execution_count": 28,
   "metadata": {},
   "outputs": [
    {
     "data": {
      "image/png": "[encoded data removed]",
      "text/plain": [
       "<Figure size 432x288 with 1 Axes>"
      ]
     },
     "metadata": {
      "needs_background": "light"
     },
     "output_type": "display_data"
    }
   ],
   "source": [
    "sns.countplot(\"FraudResult\", data=training)\n",
    "plt.show()"
   ]
  },
  {
   "cell_type": "code",
   "execution_count": 30,
   "metadata": {},
   "outputs": [
    {
     "data": {
      "image/png": "[encoded data removed]",
      "text/plain": [
       "<Figure size 432x288 with 2 Axes>"
      ]
     },
     "metadata": {
      "needs_background": "light"
     },
     "output_type": "display_data"
    }
   ],
   "source": [
    "sns.heatmap(training.corr())\n",
    "plt.show()"
   ]
  },
  {
   "cell_type": "markdown",
   "metadata": {},
   "source": [
    "Currently only 4 numerical variables can be correlated. The only variables with correlation are Value and Amount, because Amount is the modulus of Value."
   ]
  },
  {
   "cell_type": "markdown",
   "metadata": {},
   "source": [
    "### Feature Engineering\n",
    "Features added:\n",
    "- One-hot encoded features for all categorical variables\n",
    "- Withdrawal / deposit boolean\n",
    "- Difference in transaction value with previous transaction made by same account (first transactions filled with mean value)\n",
    "- Time since previous transaction made by same account (first transactions filled with mean value)\n",
    "- Difference between transaction amount/value and average account amount/value\n",
    "\t- stratified by Category\n",
    "\t- stratified by Provider\n",
    "\t- stratified by Product\n",
    "\t- Stratified by Channel\n",
    "- Difference from average account transaction time (hour)\n",
    "- Total account transactions in same hour\n",
    "- Decomposition of DateTime feature (Hour, Day of week, Day)\n",
    "- Difference from average overall transaction time\n",
    "\t- stratified by Category / Provider / Product / Channel"
   ]
  },
  {
   "cell_type": "code",
   "execution_count": 2,
   "metadata": {},
   "outputs": [
    {
     "name": "stderr",
     "output_type": "stream",
     "text": [
      "/Users/tom/miniconda3/lib/python3.7/site-packages/ipykernel_launcher.py:23: SettingWithCopyWarning: \n",
      "A value is trying to be set on a copy of a slice from a DataFrame\n",
      "\n",
      "See the caveats in the documentation: http://pandas.pydata.org/pandas-docs/stable/indexing.html#indexing-view-versus-copy\n",
      "/Users/tom/miniconda3/lib/python3.7/site-packages/ipykernel_launcher.py:31: SettingWithCopyWarning: \n",
      "A value is trying to be set on a copy of a slice from a DataFrame\n",
      "\n",
      "See the caveats in the documentation: http://pandas.pydata.org/pandas-docs/stable/indexing.html#indexing-view-versus-copy\n"
     ]
    }
   ],
   "source": [
    "def add_features(df):\n",
    "\n",
    "    # Store index\n",
    "    idx = df.index\n",
    "\n",
    "    df['TransactionStartTime'] = pd.to_datetime(df['TransactionStartTime'])\n",
    "\n",
    "    for col in ('ProviderId', 'ProductId', 'ProductCategory', 'ChannelId', 'PricingStrategy'):\n",
    "        for_dummy = df[col]\n",
    "        df = pd.concat([df, pd.get_dummies(for_dummy, prefix=col)], axis=1)\n",
    "\n",
    "    # Withdrawal or deposit\n",
    "\n",
    "    df['Withdrawal'] = (df['Amount'] > 0) * 1\n",
    "    df['Simple'] = (df['Value'] > 495000) * 1\n",
    "\n",
    "    # Difference with previous transaction amount\n",
    "\n",
    "    df = df.sort_values(['AccountId', 'TransactionStartTime'], ascending=True)\n",
    "\n",
    "    df['Difference from previous transaction'] = df['Value'].diff()\n",
    "    mask = df['AccountId'] != df['AccountId'].shift(1)\n",
    "    df['Difference from previous transaction'][mask] = np.nan\n",
    "    df['Difference from previous transaction'] = df['Difference from previous transaction'].fillna(\n",
    "        df['Difference from previous transaction'].mean())\n",
    "\n",
    "    # Difference with previous transaction time\n",
    "\n",
    "    df['Time difference from previous transaction'] = df['TransactionStartTime'].diff()\n",
    "    mask = df['AccountId'] != df['AccountId'].shift(1)\n",
    "    df['Time difference from previous transaction'][mask] = np.nan\n",
    "    df['Time difference from previous transaction'] = df['Time difference from previous transaction'].fillna(\n",
    "        df['Time difference from previous transaction'].mean())\n",
    "\n",
    "    df['DateNum'] = pd.to_numeric(\n",
    "        df['Time difference from previous transaction'])\n",
    "\n",
    "    # Difference from average account transaction\n",
    "\n",
    "  #  df['Difference from Average Account'] = df.groupby(\n",
    "  #      'AccountId')['Value'].transform(lambda x: (x - x.mean()))\n",
    "\n",
    "    # Difference from average account transaction by ProductCategory / ProviderId / ProductId\n",
    "\n",
    "  #  df['CategoryDiffV'] = df.groupby(['AccountId', 'ProductCategory'])[\n",
    "  #      'Value'].transform(lambda x: (x - x.mean()))\n",
    "  #  df['CategoryDiffA'] = df.groupby(['AccountId', 'ProductCategory'])[\n",
    "  #      'Amount'].transform(lambda x: (x - x.mean()))\n",
    "  # df['ProviderDiffV'] = df.groupby(['AccountId', 'ProviderId'])[\n",
    "  #      'Value'].transform(lambda x: (x - x.mean()))\n",
    "  #  df['ProviderDiffA'] = df.groupby(['AccountId', 'ProviderId'])[\n",
    "  #      'Amount'].transform(lambda x: (x - x.mean()))\n",
    "  #  df['ProductDiffV'] = df.groupby(['AccountId', 'ProductId'])[\n",
    "  #      'Value'].transform(lambda x: (x - x.mean()))\n",
    "  #  df['ProductDiffA'] = df.groupby(['AccountId', 'ProductId'])[\n",
    "  #      'Amount'].transform(lambda x: (x - x.mean()))\n",
    "  #  df['ChannelDiffA'] = df.groupby(['AccountId', 'ChannelId'])[\n",
    "  #      'Amount'].transform(lambda x: (x - x.mean()))\n",
    "  #  df['ChannelDiffV'] = df.groupby(['AccountId', 'ChannelId'])[\n",
    "  #      'Value'].transform(lambda x: (x - x.mean()))\n",
    "\n",
    "    # Difference from average account hour\n",
    "    df['Hour'] = df['TransactionStartTime'].dt.hour\n",
    "    df['Day'] = df['TransactionStartTime'].dt.dayofyear\n",
    "    df['Transactions in same hour'] = df.groupby(['AccountId', 'Day', 'Hour'])[\n",
    "        'Amount'].transform('count')\n",
    "    df['DayofWeek'] = df['TransactionStartTime'].dt.weekday\n",
    "    df['Difference from Average Time'] = df.groupby(\n",
    "        'AccountId')['Hour'].transform(lambda x: (x - x.mean()))\n",
    "\n",
    "    # Overall averages\n",
    " #   df['Difference from Average Time Overall'] = df['Hour'].transform(lambda x: (x - x.mean()))\n",
    " #   df['CategoryDiffOverallV'] = df.groupby(['ProductCategory'])['Value'].transform(lambda x: (x - x.mean()))\n",
    " #   df['CategoryDiffOverallA'] = df.groupby(['ProductCategory'])[\n",
    " #       'Amount'].transform(lambda x: (x - x.mean()))\n",
    " #   df['ProviderDiffOverallV'] = df.groupby(\n",
    " #       ['ProviderId'])['Value'].transform(lambda x: (x - x.mean()))\n",
    " #   df['ProviderDiffOverallA'] = df.groupby(\n",
    " #       ['ProviderId'])['Amount'].transform(lambda x: (x - x.mean()))\n",
    " #   df['ProductDiffOverallV'] = df.groupby(\n",
    " #       ['ProviderId'])['Value'].transform(lambda x: (x - x.mean()))\n",
    " #   df['ProductDiffOverallA'] = df.groupby(\n",
    " #       ['ProviderId'])['Amount'].transform(lambda x: (x - x.mean()))\n",
    "\n",
    "    df = df.reindex(idx)\n",
    "\n",
    "    return df\n",
    "\n",
    "training = add_features(training)\n",
    "test = add_features(test)"
   ]
  },
  {
   "cell_type": "markdown",
   "metadata": {},
   "source": [
    "### Further Visualisation"
   ]
  },
  {
   "cell_type": "code",
   "execution_count": 32,
   "metadata": {},
   "outputs": [
    {
     "ename": "KeyError",
     "evalue": "'Time'",
     "output_type": "error",
     "traceback": [
      "\u001b[0;31m---------------------------------------------------------------------------\u001b[0m",
      "\u001b[0;31mKeyError\u001b[0m                                  Traceback (most recent call last)",
      "\u001b[0;32m~/miniconda3/lib/python3.7/site-packages/pandas/core/indexes/base.py\u001b[0m in \u001b[0;36mget_loc\u001b[0;34m(self, key, method, tolerance)\u001b[0m\n\u001b[1;32m   2655\u001b[0m             \u001b[0;32mtry\u001b[0m\u001b[0;34m:\u001b[0m\u001b[0;34m\u001b[0m\u001b[0;34m\u001b[0m\u001b[0m\n\u001b[0;32m-> 2656\u001b[0;31m                 \u001b[0;32mreturn\u001b[0m \u001b[0mself\u001b[0m\u001b[0;34m.\u001b[0m\u001b[0m_engine\u001b[0m\u001b[0;34m.\u001b[0m\u001b[0mget_loc\u001b[0m\u001b[0;34m(\u001b[0m\u001b[0mkey\u001b[0m\u001b[0;34m)\u001b[0m\u001b[0;34m\u001b[0m\u001b[0;34m\u001b[0m\u001b[0m\n\u001b[0m\u001b[1;32m   2657\u001b[0m             \u001b[0;32mexcept\u001b[0m \u001b[0mKeyError\u001b[0m\u001b[0;34m:\u001b[0m\u001b[0;34m\u001b[0m\u001b[0;34m\u001b[0m\u001b[0m\n",
      "\u001b[0;32mpandas/_libs/index.pyx\u001b[0m in \u001b[0;36mpandas._libs.index.IndexEngine.get_loc\u001b[0;34m()\u001b[0m\n",
      "\u001b[0;32mpandas/_libs/index.pyx\u001b[0m in \u001b[0;36mpandas._libs.index.IndexEngine.get_loc\u001b[0;34m()\u001b[0m\n",
      "\u001b[0;32mpandas/_libs/hashtable_class_helper.pxi\u001b[0m in \u001b[0;36mpandas._libs.hashtable.PyObjectHashTable.get_item\u001b[0;34m()\u001b[0m\n",
      "\u001b[0;32mpandas/_libs/hashtable_class_helper.pxi\u001b[0m in \u001b[0;36mpandas._libs.hashtable.PyObjectHashTable.get_item\u001b[0;34m()\u001b[0m\n",
      "\u001b[0;31mKeyError\u001b[0m: 'Time'",
      "\nDuring handling of the above exception, another exception occurred:\n",
      "\u001b[0;31mKeyError\u001b[0m                                  Traceback (most recent call last)",
      "\u001b[0;32m<ipython-input-32-c924e2caa1c5>\u001b[0m in \u001b[0;36m<module>\u001b[0;34m\u001b[0m\n\u001b[1;32m      6\u001b[0m \u001b[0mplt\u001b[0m\u001b[0;34m.\u001b[0m\u001b[0msubplot\u001b[0m\u001b[0;34m(\u001b[0m\u001b[0;36m421\u001b[0m\u001b[0;34m)\u001b[0m\u001b[0;34m\u001b[0m\u001b[0;34m\u001b[0m\u001b[0m\n\u001b[1;32m      7\u001b[0m \u001b[0mplt\u001b[0m\u001b[0;34m.\u001b[0m\u001b[0mtitle\u001b[0m\u001b[0;34m(\u001b[0m\u001b[0;34m'Time of day'\u001b[0m\u001b[0;34m)\u001b[0m\u001b[0;34m\u001b[0m\u001b[0;34m\u001b[0m\u001b[0m\n\u001b[0;32m----> 8\u001b[0;31m \u001b[0mplt\u001b[0m\u001b[0;34m.\u001b[0m\u001b[0mhist\u001b[0m\u001b[0;34m(\u001b[0m\u001b[0mfraud\u001b[0m\u001b[0;34m[\u001b[0m\u001b[0;34m'Time'\u001b[0m\u001b[0;34m]\u001b[0m\u001b[0;34m,\u001b[0m \u001b[0mdensity\u001b[0m\u001b[0;34m=\u001b[0m\u001b[0;32mTrue\u001b[0m\u001b[0;34m,\u001b[0m \u001b[0malpha\u001b[0m\u001b[0;34m=\u001b[0m\u001b[0;36m0.5\u001b[0m\u001b[0;34m)\u001b[0m\u001b[0;34m\u001b[0m\u001b[0;34m\u001b[0m\u001b[0m\n\u001b[0m\u001b[1;32m      9\u001b[0m \u001b[0mplt\u001b[0m\u001b[0;34m.\u001b[0m\u001b[0mhist\u001b[0m\u001b[0;34m(\u001b[0m\u001b[0mgenuine\u001b[0m\u001b[0;34m[\u001b[0m\u001b[0;34m'Time'\u001b[0m\u001b[0;34m]\u001b[0m\u001b[0;34m,\u001b[0m \u001b[0mdensity\u001b[0m\u001b[0;34m=\u001b[0m\u001b[0;32mTrue\u001b[0m\u001b[0;34m,\u001b[0m \u001b[0malpha\u001b[0m\u001b[0;34m=\u001b[0m\u001b[0;36m0.5\u001b[0m\u001b[0;34m)\u001b[0m\u001b[0;34m\u001b[0m\u001b[0;34m\u001b[0m\u001b[0m\n\u001b[1;32m     10\u001b[0m \u001b[0mplt\u001b[0m\u001b[0;34m.\u001b[0m\u001b[0mxlabel\u001b[0m\u001b[0;34m(\u001b[0m\u001b[0;34m'Minutes past midnight'\u001b[0m\u001b[0;34m)\u001b[0m\u001b[0;34m\u001b[0m\u001b[0;34m\u001b[0m\u001b[0m\n",
      "\u001b[0;32m~/miniconda3/lib/python3.7/site-packages/pandas/core/frame.py\u001b[0m in \u001b[0;36m__getitem__\u001b[0;34m(self, key)\u001b[0m\n\u001b[1;32m   2925\u001b[0m             \u001b[0;32mif\u001b[0m \u001b[0mself\u001b[0m\u001b[0;34m.\u001b[0m\u001b[0mcolumns\u001b[0m\u001b[0;34m.\u001b[0m\u001b[0mnlevels\u001b[0m \u001b[0;34m>\u001b[0m \u001b[0;36m1\u001b[0m\u001b[0;34m:\u001b[0m\u001b[0;34m\u001b[0m\u001b[0;34m\u001b[0m\u001b[0m\n\u001b[1;32m   2926\u001b[0m                 \u001b[0;32mreturn\u001b[0m \u001b[0mself\u001b[0m\u001b[0;34m.\u001b[0m\u001b[0m_getitem_multilevel\u001b[0m\u001b[0;34m(\u001b[0m\u001b[0mkey\u001b[0m\u001b[0;34m)\u001b[0m\u001b[0;34m\u001b[0m\u001b[0;34m\u001b[0m\u001b[0m\n\u001b[0;32m-> 2927\u001b[0;31m             \u001b[0mindexer\u001b[0m \u001b[0;34m=\u001b[0m \u001b[0mself\u001b[0m\u001b[0;34m.\u001b[0m\u001b[0mcolumns\u001b[0m\u001b[0;34m.\u001b[0m\u001b[0mget_loc\u001b[0m\u001b[0;34m(\u001b[0m\u001b[0mkey\u001b[0m\u001b[0;34m)\u001b[0m\u001b[0;34m\u001b[0m\u001b[0;34m\u001b[0m\u001b[0m\n\u001b[0m\u001b[1;32m   2928\u001b[0m             \u001b[0;32mif\u001b[0m \u001b[0mis_integer\u001b[0m\u001b[0;34m(\u001b[0m\u001b[0mindexer\u001b[0m\u001b[0;34m)\u001b[0m\u001b[0;34m:\u001b[0m\u001b[0;34m\u001b[0m\u001b[0;34m\u001b[0m\u001b[0m\n\u001b[1;32m   2929\u001b[0m                 \u001b[0mindexer\u001b[0m \u001b[0;34m=\u001b[0m \u001b[0;34m[\u001b[0m\u001b[0mindexer\u001b[0m\u001b[0;34m]\u001b[0m\u001b[0;34m\u001b[0m\u001b[0;34m\u001b[0m\u001b[0m\n",
      "\u001b[0;32m~/miniconda3/lib/python3.7/site-packages/pandas/core/indexes/base.py\u001b[0m in \u001b[0;36mget_loc\u001b[0;34m(self, key, method, tolerance)\u001b[0m\n\u001b[1;32m   2656\u001b[0m                 \u001b[0;32mreturn\u001b[0m \u001b[0mself\u001b[0m\u001b[0;34m.\u001b[0m\u001b[0m_engine\u001b[0m\u001b[0;34m.\u001b[0m\u001b[0mget_loc\u001b[0m\u001b[0;34m(\u001b[0m\u001b[0mkey\u001b[0m\u001b[0;34m)\u001b[0m\u001b[0;34m\u001b[0m\u001b[0;34m\u001b[0m\u001b[0m\n\u001b[1;32m   2657\u001b[0m             \u001b[0;32mexcept\u001b[0m \u001b[0mKeyError\u001b[0m\u001b[0;34m:\u001b[0m\u001b[0;34m\u001b[0m\u001b[0;34m\u001b[0m\u001b[0m\n\u001b[0;32m-> 2658\u001b[0;31m                 \u001b[0;32mreturn\u001b[0m \u001b[0mself\u001b[0m\u001b[0;34m.\u001b[0m\u001b[0m_engine\u001b[0m\u001b[0;34m.\u001b[0m\u001b[0mget_loc\u001b[0m\u001b[0;34m(\u001b[0m\u001b[0mself\u001b[0m\u001b[0;34m.\u001b[0m\u001b[0m_maybe_cast_indexer\u001b[0m\u001b[0;34m(\u001b[0m\u001b[0mkey\u001b[0m\u001b[0;34m)\u001b[0m\u001b[0;34m)\u001b[0m\u001b[0;34m\u001b[0m\u001b[0;34m\u001b[0m\u001b[0m\n\u001b[0m\u001b[1;32m   2659\u001b[0m         \u001b[0mindexer\u001b[0m \u001b[0;34m=\u001b[0m \u001b[0mself\u001b[0m\u001b[0;34m.\u001b[0m\u001b[0mget_indexer\u001b[0m\u001b[0;34m(\u001b[0m\u001b[0;34m[\u001b[0m\u001b[0mkey\u001b[0m\u001b[0;34m]\u001b[0m\u001b[0;34m,\u001b[0m \u001b[0mmethod\u001b[0m\u001b[0;34m=\u001b[0m\u001b[0mmethod\u001b[0m\u001b[0;34m,\u001b[0m \u001b[0mtolerance\u001b[0m\u001b[0;34m=\u001b[0m\u001b[0mtolerance\u001b[0m\u001b[0;34m)\u001b[0m\u001b[0;34m\u001b[0m\u001b[0;34m\u001b[0m\u001b[0m\n\u001b[1;32m   2660\u001b[0m         \u001b[0;32mif\u001b[0m \u001b[0mindexer\u001b[0m\u001b[0;34m.\u001b[0m\u001b[0mndim\u001b[0m \u001b[0;34m>\u001b[0m \u001b[0;36m1\u001b[0m \u001b[0;32mor\u001b[0m \u001b[0mindexer\u001b[0m\u001b[0;34m.\u001b[0m\u001b[0msize\u001b[0m \u001b[0;34m>\u001b[0m \u001b[0;36m1\u001b[0m\u001b[0;34m:\u001b[0m\u001b[0;34m\u001b[0m\u001b[0;34m\u001b[0m\u001b[0m\n",
      "\u001b[0;32mpandas/_libs/index.pyx\u001b[0m in \u001b[0;36mpandas._libs.index.IndexEngine.get_loc\u001b[0;34m()\u001b[0m\n",
      "\u001b[0;32mpandas/_libs/index.pyx\u001b[0m in \u001b[0;36mpandas._libs.index.IndexEngine.get_loc\u001b[0;34m()\u001b[0m\n",
      "\u001b[0;32mpandas/_libs/hashtable_class_helper.pxi\u001b[0m in \u001b[0;36mpandas._libs.hashtable.PyObjectHashTable.get_item\u001b[0;34m()\u001b[0m\n",
      "\u001b[0;32mpandas/_libs/hashtable_class_helper.pxi\u001b[0m in \u001b[0;36mpandas._libs.hashtable.PyObjectHashTable.get_item\u001b[0;34m()\u001b[0m\n",
      "\u001b[0;31mKeyError\u001b[0m: 'Time'"
     ]
    },
    {
     "data": {
      "image/png": "[encoded data removed]",
      "text/plain": [
       "<Figure size 936x1584 with 1 Axes>"
      ]
     },
     "metadata": {
      "needs_background": "light"
     },
     "output_type": "display_data"
    }
   ],
   "source": [
    "fraud = training[training['FraudResult'] == 1]\n",
    "genuine = training[training['FraudResult'] == 0]\n",
    "\n",
    "fig = plt.figure(figsize=(13,22))\n",
    "\n",
    "plt.subplot(421)\n",
    "plt.title('Time of day')\n",
    "plt.hist(fraud['Time'], density=True, alpha=0.5)\n",
    "plt.hist(genuine['Time'], density=True, alpha=0.5)\n",
    "plt.xlabel('Minutes past midnight')\n",
    "plt.legend(['Fraud', 'Genuine'])\n",
    "\n",
    "plt.subplot(422)\n",
    "plt.title('Value')\n",
    "plt.hist(fraud['Value'], density=True, alpha=0.5)\n",
    "plt.hist(genuine['Value'], density=True, alpha=0.5)\n",
    "plt.xlabel('UGX')\n",
    "plt.legend(['Fraud', 'Genuine'])\n",
    "\n",
    "plt.subplot(423)\n",
    "plt.title('Amount')\n",
    "plt.hist(fraud['Amount'], density=True, alpha=0.5)\n",
    "plt.hist(genuine['Amount'], density=True, alpha=0.5)\n",
    "plt.xlabel('UGX')\n",
    "plt.legend(['Fraud', 'Genuine'])\n",
    "\n",
    "plt.subplot(424)\n",
    "plt.title('Difference from account average transaction')\n",
    "plt.hist(fraud['Difference from Average Account'], density=True, alpha=0.5)\n",
    "plt.hist(genuine['Difference from Average Account'], density=True, alpha=0.5)\n",
    "plt.xlabel('UGX')\n",
    "plt.legend(['Fraud', 'Genuine'])\n",
    "\n",
    "ax1 = fig.add_subplot(425)\n",
    "data = training.groupby('FraudResult')['ChannelId'].value_counts(normalize=True).unstack()\n",
    "data.plot(kind='barh', ax=ax1)\n",
    "plt.title('ChannelId')\n",
    "plt.xlabel('Density')\n",
    "\n",
    "ax2 = fig.add_subplot(426)\n",
    "data = training.groupby('FraudResult')['DayofWeek'].value_counts(normalize=True).unstack()\n",
    "data.plot(kind='barh', ax=ax2)\n",
    "plt.title('Day of week')\n",
    "plt.xlabel('Density')\n",
    "\n",
    "ax3 = fig.add_subplot(427)\n",
    "data = training.groupby('FraudResult')['ProductCategory'].value_counts(normalize=True).unstack()\n",
    "data.plot(kind='barh', ax=ax3)\n",
    "plt.title('Product Category')\n",
    "plt.xlabel('Density')\n",
    "\n",
    "ax3 = fig.add_subplot(428)\n",
    "data = training.groupby('FraudResult')['ProviderId'].value_counts(normalize=True).unstack()\n",
    "data.plot(kind='barh', ax=ax3)\n",
    "plt.title('ProviderId')\n",
    "plt.xlabel('Density')\n",
    "\n",
    "\n",
    "\n",
    "plt.show()"
   ]
  },
  {
   "cell_type": "markdown",
   "metadata": {},
   "source": [
    "### Data preparation\n",
    "- Some categorical values present in test set but not in training set and vice versa, leading to a mismatch in the number of columns. The missing columns were added to both datasets, being careful to then reorder columns to match between the two.\n",
    "- Feature scaling necessary for non-decision tree based classifiers\n",
    "- Columns with non-numerical values unsuitable for input to classifier removed\n",
    "- Dataframes converted to numpy array for classifier input"
   ]
  },
  {
   "cell_type": "code",
   "execution_count": 3,
   "metadata": {},
   "outputs": [],
   "source": [
    "# Add features in test but not training set\n",
    "for col in list(set(test.columns) - set(training.columns)):\n",
    "    training[col] = 0\n",
    "\n",
    "# Add features in training but not test set\n",
    "for col in list(set(training.columns) - set(test.columns)):\n",
    "    test[col] = 0\n",
    "\n",
    "X = training.drop(['TransactionId', 'BatchId', 'AccountId', 'SubscriptionId', 'CustomerId', 'CurrencyCode',\n",
    "                   'CountryCode', 'ProviderId', 'ProductId', 'ProductCategory', 'ChannelId', 'TransactionStartTime',\n",
    "                   'FraudResult', 'Time difference from previous transaction'], axis=1)\n",
    "\n",
    "X_test = test.drop(['TransactionId', 'BatchId', 'AccountId', 'SubscriptionId', 'CustomerId', 'CurrencyCode',\n",
    "                    'CountryCode', 'ProviderId', 'ProductId', 'ProductCategory', 'ChannelId', 'TransactionStartTime',\n",
    "                    'FraudResult', 'Time difference from previous transaction'], axis=1)\n",
    "\n",
    "# Match column order between training and test sets\n",
    "X_test = X_test[X.columns]\n",
    "\n",
    "features = X.columns\n",
    "\n",
    "X = X.values\n",
    "#X = StandardScaler().fit_transform(X)\n",
    "X_test = X_test.values\n",
    "#X_test = StandardScaler().fit_transform(X_test)\n",
    "y = training['FraudResult'].values"
   ]
  },
  {
   "cell_type": "code",
   "execution_count": 4,
   "metadata": {},
   "outputs": [
    {
     "data": {
      "image/png": "[encoded data removed]",
      "text/plain": [
       "<Figure size 432x288 with 1 Axes>"
      ]
     },
     "metadata": {
      "needs_background": "light"
     },
     "output_type": "display_data"
    }
   ],
   "source": [
    "training.boxplot(column=['Value'], by='FraudResult')\n",
    "plt.show()"
   ]
  },
  {
   "cell_type": "code",
   "execution_count": 5,
   "metadata": {},
   "outputs": [
    {
     "data": {
      "image/png": "[encoded data removed]",
      "text/plain": [
       "<Figure size 432x288 with 1 Axes>"
      ]
     },
     "metadata": {
      "needs_background": "light"
     },
     "output_type": "display_data"
    }
   ],
   "source": [
    "for x in [0,1]:\n",
    "    sns.kdeplot(training[training['FraudResult'] == x]['Amount'])\n",
    "plt.legend(('0','1'))\n",
    "plt.show()"
   ]
  },
  {
   "cell_type": "code",
   "execution_count": 6,
   "metadata": {},
   "outputs": [
    {
     "data": {
      "image/png": "[encoded data removed]",
      "text/plain": [
       "<Figure size 432x288 with 1 Axes>"
      ]
     },
     "metadata": {
      "needs_background": "light"
     },
     "output_type": "display_data"
    }
   ],
   "source": [
    "for x in [0,1]:\n",
    "    sns.kdeplot(training[training['FraudResult'] == x]['Transactions in same hour'])\n",
    "plt.legend(('0','1'))\n",
    "plt.show()"
   ]
  },
  {
   "cell_type": "code",
   "execution_count": 21,
   "metadata": {},
   "outputs": [],
   "source": [
    "# Isolate features\n",
    "\n",
    "training['Simple'] = (training['Amount'] > 499000)*1\n",
    "X = training[['Simple','Difference from previous transaction']].values\n",
    "features = ['Simple','Difference from previous transaction']"
   ]
  },
  {
   "cell_type": "markdown",
   "metadata": {},
   "source": [
    "### Exploratory Data Analysis\n",
    "- Used F1 scoring as this is the metric on which the competition solutions are ranked\n",
    "- K fold cross validation with a mean cross validated score and mean confusion matrix\n",
    "- Compared a range of classifiers from Scikit-learn, most of which performed poorly (Naive bayes, SVM, Logistic Regression)\n",
    "- Decision trees performed best, with no significant improvement in performance from Random Forest ensembles"
   ]
  },
  {
   "cell_type": "code",
   "execution_count": 8,
   "metadata": {},
   "outputs": [],
   "source": [
    "def f1_scorer(clf, X, y):\n",
    "\n",
    "    y_pred = clf.predict(X)\n",
    "\n",
    "    return f1_score(y, y_pred)\n",
    "\n",
    "def cross_validation_score_f1(clf, X, y, cv):\n",
    "\n",
    "    cv_score = 0\n",
    "    train_score = 0\n",
    "    val_score = 0\n",
    "    cm = np.zeros([2,2])\n",
    "\n",
    "    skf = StratifiedKFold(n_splits=cv, random_state=1, shuffle=False)\n",
    "\n",
    "    for train_index, val_index in skf.split(X, y):\n",
    "\n",
    "        \n",
    "        clf.fit(X[train_index], y[train_index])\n",
    "\n",
    "        train_score = f1_scorer(clf, X[train_index], y[train_index])\n",
    "        val_score = f1_scorer(clf, X[val_index], y[val_index])\n",
    "\n",
    "        print(\"Train F1: {} Test F1: {}\".format(train_score, val_score))\n",
    "\n",
    "        cv_score += val_score\n",
    "        \n",
    "        y_pred = clf.predict(X[val_index])\n",
    "        cm += confusion_matrix(y[val_index], y_pred)\n",
    "        \n",
    "    print('Mean confusion matrix:')\n",
    "    print(np.round(cm/cv, 1))\n",
    "\n",
    "    return cv_score / cv"
   ]
  },
  {
   "cell_type": "code",
   "execution_count": 9,
   "metadata": {},
   "outputs": [
    {
     "name": "stdout",
     "output_type": "stream",
     "text": [
      "Random Forest\n",
      "Train F1: 0.7835616438356163 Test F1: 0.9433962264150945\n",
      "Train F1: 0.7977839335180057 Test F1: 0.8421052631578948\n",
      "Train F1: 0.7999999999999999 Test F1: 0.8275862068965517\n",
      "Train F1: 0.7956989247311829 Test F1: 0.8695652173913043\n",
      "Train F1: 0.8390501319261213 Test F1: 0.4615384615384615\n",
      "Train F1: 0.8264462809917356 Test F1: 0.6545454545454547\n",
      "Train F1: 0.7933884297520661 Test F1: 0.8727272727272727\n",
      "Train F1: 0.7933884297520661 Test F1: 0.8727272727272727\n",
      "Mean confusion matrix:\n",
      "[[1.19265e+04 7.10000e+00]\n",
      " [3.10000e+00 2.10000e+01]]\n",
      "Cross-validated F1 score: 0.7930239219249134\n"
     ]
    }
   ],
   "source": [
    "clf = naive_bayes.BernoulliNB()\n",
    "print(\"Random Forest\")\n",
    "score = cross_validation_score_f1(clf, X, y, 8)\n",
    "print(\"Cross-validated F1 score: {}\".format(score))"
   ]
  },
  {
   "cell_type": "code",
   "execution_count": 10,
   "metadata": {},
   "outputs": [
    {
     "name": "stdout",
     "output_type": "stream",
     "text": [
      "Decision Tree\n",
      "Train F1: 0.7835616438356163 Test F1: 0.9433962264150945\n",
      "Train F1: 0.7977839335180057 Test F1: 0.8421052631578948\n",
      "Train F1: 0.7999999999999999 Test F1: 0.8275862068965517\n",
      "Train F1: 0.7956989247311829 Test F1: 0.8695652173913043\n",
      "Train F1: 0.8390501319261213 Test F1: 0.4615384615384615\n",
      "Train F1: 0.8264462809917356 Test F1: 0.6545454545454547\n",
      "Train F1: 0.7933884297520661 Test F1: 0.8727272727272727\n",
      "Train F1: 0.7933884297520661 Test F1: 0.8727272727272727\n",
      "Mean confusion matrix:\n",
      "[[1.19265e+04 7.10000e+00]\n",
      " [3.10000e+00 2.10000e+01]]\n",
      "Cross-validated F1 score: 0.7930239219249134\n"
     ]
    }
   ],
   "source": [
    "dtc = tree.DecisionTreeClassifier(criterion='entropy', max_depth=2)\n",
    "print(\"Decision Tree\")\n",
    "score = cross_validation_score_f1(dtc, X, y, 8)\n",
    "print(\"Cross-validated F1 score: {}\".format(score))"
   ]
  },
  {
   "cell_type": "code",
   "execution_count": 11,
   "metadata": {},
   "outputs": [
    {
     "name": "stdout",
     "output_type": "stream",
     "text": [
      "Random Forest\n"
     ]
    },
    {
     "name": "stderr",
     "output_type": "stream",
     "text": [
      "/Users/tom/miniconda3/lib/python3.7/site-packages/sklearn/ensemble/forest.py:246: FutureWarning: The default value of n_estimators will change from 10 in version 0.20 to 100 in 0.22.\n",
      "  \"10 in version 0.20 to 100 in 0.22.\", FutureWarning)\n"
     ]
    },
    {
     "name": "stdout",
     "output_type": "stream",
     "text": [
      "Train F1: 0.8055555555555555 Test F1: 0.9433962264150945\n",
      "Train F1: 0.8022284122562675 Test F1: 0.8421052631578948\n",
      "Train F1: 0.8068181818181818 Test F1: 0.8421052631578948\n",
      "Train F1: 0.8 Test F1: 0.8695652173913043\n",
      "Train F1: 0.8421052631578947 Test F1: 0.4615384615384615\n",
      "Train F1: 0.8362573099415205 Test F1: 0.64\n",
      "Train F1: 0.8033240997229917 Test F1: 0.7692307692307692\n",
      "Train F1: 0.6666666666666667 Test F1: 0.4736842105263159\n",
      "Mean confusion matrix:\n",
      "[[1.19271e+04 6.50000e+00]\n",
      " [5.80000e+00 1.84000e+01]]\n",
      "Cross-validated F1 score: 0.7302031764272169\n"
     ]
    }
   ],
   "source": [
    "rf = ensemble.RandomForestClassifier(max_depth=3)\n",
    "print(\"Random Forest\")\n",
    "score = cross_validation_score_f1(rf, X, y, 8)\n",
    "print(\"Cross-validated F1 score: {}\".format(score))"
   ]
  },
  {
   "cell_type": "markdown",
   "metadata": {},
   "source": [
    "### Feature Importances\n",
    "- Noticed a strong preference towards *Value*, *Amount* features\n",
    "- Huge performance drop (models appear to have no predictive power) when these features and all those derived from them are removed\n",
    "- Seems unlikely that fraudulent transactions could be identified purely based on their amount. This lead me to investigate by trimming the decision trees and examining the result."
   ]
  },
  {
   "cell_type": "code",
   "execution_count": 12,
   "metadata": {},
   "outputs": [
    {
     "name": "stdout",
     "output_type": "stream",
     "text": [
      "Amount 0.9670986002945237 0.6259336903153538\n",
      "Value 0.03290139970547622 0.37406630968464605\n"
     ]
    }
   ],
   "source": [
    "dtc.fit(X, y)\n",
    "rf.fit(X, y)\n",
    "\n",
    "for x, y2, z in zip(features, dtc.feature_importances_, rf.feature_importances_):\n",
    "    print(x, y2, z)"
   ]
  },
  {
   "cell_type": "markdown",
   "metadata": {},
   "source": [
    "### Trimmed decision tree"
   ]
  },
  {
   "cell_type": "code",
   "execution_count": 22,
   "metadata": {},
   "outputs": [
    {
     "data": {
      "image/svg+xml": [
       "<svg height=\"314pt\" viewBox=\"0.00 0.00 631.50 314.00\" width=\"632pt\" xmlns=\"http://www.w3.org/2000/svg\" xmlns:xlink=\"http://www.w3.org/1999/xlink\">\n",
       "<g class=\"graph\" id=\"graph0\" transform=\"scale(1 1) rotate(0) translate(4 310)\">\n",
       "<title>Tree</title>\n",
       "<polygon fill=\"#ffffff\" points=\"-4,4 -4,-310 627.5,-310 627.5,4 -4,4\" stroke=\"transparent\"/>\n",
       "<!-- 0 -->\n",
       "<g class=\"node\" id=\"node1\">\n",
       "<title>0</title>\n",
       "<polygon fill=\"#e58139\" fill-opacity=\"0.996078\" points=\"376.5,-306 242.5,-306 242.5,-223 376.5,-223 376.5,-306\" stroke=\"#000000\"/>\n",
       "<text fill=\"#000000\" font-family=\"Times,serif\" font-size=\"14.00\" text-anchor=\"middle\" x=\"309.5\" y=\"-290.8\">Simple &lt;= 0.5</text>\n",
       "<text fill=\"#000000\" font-family=\"Times,serif\" font-size=\"14.00\" text-anchor=\"middle\" x=\"309.5\" y=\"-275.8\">entropy = 0.021</text>\n",
       "<text fill=\"#000000\" font-family=\"Times,serif\" font-size=\"14.00\" text-anchor=\"middle\" x=\"309.5\" y=\"-260.8\">samples = 95662</text>\n",
       "<text fill=\"#000000\" font-family=\"Times,serif\" font-size=\"14.00\" text-anchor=\"middle\" x=\"309.5\" y=\"-245.8\">value = [95469, 193]</text>\n",
       "<text fill=\"#000000\" font-family=\"Times,serif\" font-size=\"14.00\" text-anchor=\"middle\" x=\"309.5\" y=\"-230.8\">class = 0</text>\n",
       "</g>\n",
       "<!-- 1 -->\n",
       "<g class=\"node\" id=\"node2\">\n",
       "<title>1</title>\n",
       "<polygon fill=\"#e58139\" points=\"299,-187 0,-187 0,-104 299,-104 299,-187\" stroke=\"#000000\"/>\n",
       "<text fill=\"#000000\" font-family=\"Times,serif\" font-size=\"14.00\" text-anchor=\"middle\" x=\"149.5\" y=\"-171.8\">Difference from previous transaction &lt;= 292165.0</text>\n",
       "<text fill=\"#000000\" font-family=\"Times,serif\" font-size=\"14.00\" text-anchor=\"middle\" x=\"149.5\" y=\"-156.8\">entropy = 0.003</text>\n",
       "<text fill=\"#000000\" font-family=\"Times,serif\" font-size=\"14.00\" text-anchor=\"middle\" x=\"149.5\" y=\"-141.8\">samples = 95437</text>\n",
       "<text fill=\"#000000\" font-family=\"Times,serif\" font-size=\"14.00\" text-anchor=\"middle\" x=\"149.5\" y=\"-126.8\">value = [95412, 25]</text>\n",
       "<text fill=\"#000000\" font-family=\"Times,serif\" font-size=\"14.00\" text-anchor=\"middle\" x=\"149.5\" y=\"-111.8\">class = 0</text>\n",
       "</g>\n",
       "<!-- 0&#45;&gt;1 -->\n",
       "<g class=\"edge\" id=\"edge1\">\n",
       "<title>0-&gt;1</title>\n",
       "<path d=\"M253.5398,-222.8796C240.6292,-213.2774 226.7979,-202.9903 213.5718,-193.1534\" fill=\"none\" stroke=\"#000000\"/>\n",
       "<polygon fill=\"#000000\" points=\"215.5414,-190.2564 205.4286,-187.0969 211.3639,-195.8732 215.5414,-190.2564\" stroke=\"#000000\"/>\n",
       "<text fill=\"#000000\" font-family=\"Times,serif\" font-size=\"14.00\" text-anchor=\"middle\" x=\"209.0634\" y=\"-208.1313\">True</text>\n",
       "</g>\n",
       "<!-- 4 -->\n",
       "<g class=\"node\" id=\"node5\">\n",
       "<title>4</title>\n",
       "<polygon fill=\"#399de5\" fill-opacity=\"0.658824\" points=\"623.5,-187 317.5,-187 317.5,-104 623.5,-104 623.5,-187\" stroke=\"#000000\"/>\n",
       "<text fill=\"#000000\" font-family=\"Times,serif\" font-size=\"14.00\" text-anchor=\"middle\" x=\"470.5\" y=\"-171.8\">Difference from previous transaction &lt;= 1999250.0</text>\n",
       "<text fill=\"#000000\" font-family=\"Times,serif\" font-size=\"14.00\" text-anchor=\"middle\" x=\"470.5\" y=\"-156.8\">entropy = 0.817</text>\n",
       "<text fill=\"#000000\" font-family=\"Times,serif\" font-size=\"14.00\" text-anchor=\"middle\" x=\"470.5\" y=\"-141.8\">samples = 225</text>\n",
       "<text fill=\"#000000\" font-family=\"Times,serif\" font-size=\"14.00\" text-anchor=\"middle\" x=\"470.5\" y=\"-126.8\">value = [57, 168]</text>\n",
       "<text fill=\"#000000\" font-family=\"Times,serif\" font-size=\"14.00\" text-anchor=\"middle\" x=\"470.5\" y=\"-111.8\">class = 1</text>\n",
       "</g>\n",
       "<!-- 0&#45;&gt;4 -->\n",
       "<g class=\"edge\" id=\"edge4\">\n",
       "<title>0-&gt;4</title>\n",
       "<path d=\"M365.81,-222.8796C378.8012,-213.2774 392.719,-202.9903 406.0277,-193.1534\" fill=\"none\" stroke=\"#000000\"/>\n",
       "<polygon fill=\"#000000\" points=\"408.2604,-195.8555 414.2218,-187.0969 404.0996,-190.2263 408.2604,-195.8555\" stroke=\"#000000\"/>\n",
       "<text fill=\"#000000\" font-family=\"Times,serif\" font-size=\"14.00\" text-anchor=\"middle\" x=\"410.5133\" y=\"-208.1203\">False</text>\n",
       "</g>\n",
       "<!-- 2 -->\n",
       "<g class=\"node\" id=\"node3\">\n",
       "<title>2</title>\n",
       "<polygon fill=\"#e58139\" points=\"180,-68 53,-68 53,0 180,0 180,-68\" stroke=\"#000000\"/>\n",
       "<text fill=\"#000000\" font-family=\"Times,serif\" font-size=\"14.00\" text-anchor=\"middle\" x=\"116.5\" y=\"-52.8\">entropy = 0.003</text>\n",
       "<text fill=\"#000000\" font-family=\"Times,serif\" font-size=\"14.00\" text-anchor=\"middle\" x=\"116.5\" y=\"-37.8\">samples = 95412</text>\n",
       "<text fill=\"#000000\" font-family=\"Times,serif\" font-size=\"14.00\" text-anchor=\"middle\" x=\"116.5\" y=\"-22.8\">value = [95392, 20]</text>\n",
       "<text fill=\"#000000\" font-family=\"Times,serif\" font-size=\"14.00\" text-anchor=\"middle\" x=\"116.5\" y=\"-7.8\">class = 0</text>\n",
       "</g>\n",
       "<!-- 1&#45;&gt;2 -->\n",
       "<g class=\"edge\" id=\"edge2\">\n",
       "<title>1-&gt;2</title>\n",
       "<path d=\"M137.212,-103.9815C134.7095,-95.5261 132.0685,-86.6026 129.5409,-78.0623\" fill=\"none\" stroke=\"#000000\"/>\n",
       "<polygon fill=\"#000000\" points=\"132.8349,-76.8592 126.6408,-68.2637 126.1227,-78.8458 132.8349,-76.8592\" stroke=\"#000000\"/>\n",
       "</g>\n",
       "<!-- 3 -->\n",
       "<g class=\"node\" id=\"node4\">\n",
       "<title>3</title>\n",
       "<polygon fill=\"#e58139\" fill-opacity=\"0.749020\" points=\"304.5,-68 198.5,-68 198.5,0 304.5,0 304.5,-68\" stroke=\"#000000\"/>\n",
       "<text fill=\"#000000\" font-family=\"Times,serif\" font-size=\"14.00\" text-anchor=\"middle\" x=\"251.5\" y=\"-52.8\">entropy = 0.722</text>\n",
       "<text fill=\"#000000\" font-family=\"Times,serif\" font-size=\"14.00\" text-anchor=\"middle\" x=\"251.5\" y=\"-37.8\">samples = 25</text>\n",
       "<text fill=\"#000000\" font-family=\"Times,serif\" font-size=\"14.00\" text-anchor=\"middle\" x=\"251.5\" y=\"-22.8\">value = [20, 5]</text>\n",
       "<text fill=\"#000000\" font-family=\"Times,serif\" font-size=\"14.00\" text-anchor=\"middle\" x=\"251.5\" y=\"-7.8\">class = 0</text>\n",
       "</g>\n",
       "<!-- 1&#45;&gt;3 -->\n",
       "<g class=\"edge\" id=\"edge3\">\n",
       "<title>1-&gt;3</title>\n",
       "<path d=\"M187.481,-103.9815C195.8886,-94.7908 204.8021,-85.0472 213.2215,-75.8436\" fill=\"none\" stroke=\"#000000\"/>\n",
       "<polygon fill=\"#000000\" points=\"215.9883,-78.0045 220.1557,-68.2637 210.8234,-73.2797 215.9883,-78.0045\" stroke=\"#000000\"/>\n",
       "</g>\n",
       "<!-- 5 -->\n",
       "<g class=\"node\" id=\"node6\">\n",
       "<title>5</title>\n",
       "<polygon fill=\"#399de5\" fill-opacity=\"0.615686\" points=\"481,-68 368,-68 368,0 481,0 481,-68\" stroke=\"#000000\"/>\n",
       "<text fill=\"#000000\" font-family=\"Times,serif\" font-size=\"14.00\" text-anchor=\"middle\" x=\"424.5\" y=\"-52.8\">entropy = 0.851</text>\n",
       "<text fill=\"#000000\" font-family=\"Times,serif\" font-size=\"14.00\" text-anchor=\"middle\" x=\"424.5\" y=\"-37.8\">samples = 206</text>\n",
       "<text fill=\"#000000\" font-family=\"Times,serif\" font-size=\"14.00\" text-anchor=\"middle\" x=\"424.5\" y=\"-22.8\">value = [57, 149]</text>\n",
       "<text fill=\"#000000\" font-family=\"Times,serif\" font-size=\"14.00\" text-anchor=\"middle\" x=\"424.5\" y=\"-7.8\">class = 1</text>\n",
       "</g>\n",
       "<!-- 4&#45;&gt;5 -->\n",
       "<g class=\"edge\" id=\"edge5\">\n",
       "<title>4-&gt;5</title>\n",
       "<path d=\"M453.3713,-103.9815C449.845,-95.4342 446.1215,-86.4086 442.5633,-77.7839\" fill=\"none\" stroke=\"#000000\"/>\n",
       "<polygon fill=\"#000000\" points=\"445.685,-76.1731 438.6357,-68.2637 439.214,-78.8427 445.685,-76.1731\" stroke=\"#000000\"/>\n",
       "</g>\n",
       "<!-- 6 -->\n",
       "<g class=\"node\" id=\"node7\">\n",
       "<title>6</title>\n",
       "<polygon fill=\"#399de5\" points=\"598,-68 499,-68 499,0 598,0 598,-68\" stroke=\"#000000\"/>\n",
       "<text fill=\"#000000\" font-family=\"Times,serif\" font-size=\"14.00\" text-anchor=\"middle\" x=\"548.5\" y=\"-52.8\">entropy = 0.0</text>\n",
       "<text fill=\"#000000\" font-family=\"Times,serif\" font-size=\"14.00\" text-anchor=\"middle\" x=\"548.5\" y=\"-37.8\">samples = 19</text>\n",
       "<text fill=\"#000000\" font-family=\"Times,serif\" font-size=\"14.00\" text-anchor=\"middle\" x=\"548.5\" y=\"-22.8\">value = [0, 19]</text>\n",
       "<text fill=\"#000000\" font-family=\"Times,serif\" font-size=\"14.00\" text-anchor=\"middle\" x=\"548.5\" y=\"-7.8\">class = 1</text>\n",
       "</g>\n",
       "<!-- 4&#45;&gt;6 -->\n",
       "<g class=\"edge\" id=\"edge6\">\n",
       "<title>4-&gt;6</title>\n",
       "<path d=\"M499.5443,-103.9815C505.7808,-95.0666 512.3813,-85.6313 518.6478,-76.6734\" fill=\"none\" stroke=\"#000000\"/>\n",
       "<polygon fill=\"#000000\" points=\"521.6665,-78.464 524.5308,-68.2637 515.9307,-74.4515 521.6665,-78.464\" stroke=\"#000000\"/>\n",
       "</g>\n",
       "</g>\n",
       "</svg>"
      ],
      "text/plain": [
       "<IPython.core.display.SVG object>"
      ]
     },
     "metadata": {},
     "output_type": "display_data"
    }
   ],
   "source": [
    "graph = Source(tree.export_graphviz(dtc, out_file=None\n",
    "   , feature_names=features, class_names=['0', '1'] \n",
    "   , filled = True))\n",
    "display(SVG(graph.pipe(format='svg')))"
   ]
  },
  {
   "cell_type": "markdown",
   "metadata": {},
   "source": [
    "### Output csv file for competition submission"
   ]
  },
  {
   "cell_type": "code",
   "execution_count": null,
   "metadata": {},
   "outputs": [],
   "source": [
    "test_preds = dtc.predict(X_test)\n",
    "output = pd.DataFrame()\n",
    "test = pd.read_csv('test.csv')\n",
    "output['TransactionId'] = test['TransactionId']\n",
    "output['FraudResult'] = test_preds\n",
    "output.to_csv('submission.csv', index=False)"
   ]
  }
 ],
 "metadata": {
  "kernelspec": {
   "display_name": "Python 3",
   "language": "python",
   "name": "python3"
  },
  "language_info": {
   "codemirror_mode": {
    "name": "ipython",
    "version": 3
   },
   "file_extension": ".py",
   "mimetype": "text/x-python",
   "name": "python",
   "nbconvert_exporter": "python",
   "pygments_lexer": "ipython3",
   "version": "3.7.2"
  }
 },
 "nbformat": 4,
 "nbformat_minor": 1
}
