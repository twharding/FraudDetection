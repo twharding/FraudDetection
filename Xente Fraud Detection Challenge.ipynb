{
 "cells": [
  {
   "cell_type": "markdown",
   "metadata": {},
   "source": [
    "# Xente Fraud Detection Challenge\n",
    "\n",
    "http://zindi.africa/competitions/xente-fraud-detection-challenge\n",
    "\n",
    "The objective of this competition is to create a machine learning model to detect fraudulent transactions.\n",
    "\n",
    "The error metric for this competition is the F1 score, which ranges from 0 (total failure) to 1 (perfect score). Hence, the closer your score is to 1, the better your model."
   ]
  },
  {
   "cell_type": "code",
   "execution_count": 42,
   "metadata": {},
   "outputs": [],
   "source": [
    "import matplotlib.pyplot as plt\n",
    "import numpy as np\n",
    "import pandas as pd\n",
    "import seaborn as sns\n",
    "from IPython.display import SVG\n",
    "from graphviz import Source\n",
    "from IPython.display import display\n",
    "from sklearn.model_selection import StratifiedKFold\n",
    "from sklearn.preprocessing import StandardScaler\n",
    "from sklearn import tree, linear_model, svm, neighbors, naive_bayes, neural_network, ensemble, gaussian_process, discriminant_analysis\n",
    "from sklearn.metrics import f1_score, make_scorer, confusion_matrix, auc, precision_recall_curve"
   ]
  },
  {
   "cell_type": "markdown",
   "metadata": {},
   "source": [
    "### Exploratory Data Analysis"
   ]
  },
  {
   "cell_type": "code",
   "execution_count": 43,
   "metadata": {},
   "outputs": [
    {
     "data": {
      "text/plain": [
       "False"
      ]
     },
     "execution_count": 43,
     "metadata": {},
     "output_type": "execute_result"
    }
   ],
   "source": [
    "training = pd.read_csv('training.csv')\n",
    "test = pd.read_csv('test.csv')\n",
    "training.isnull().values.any()"
   ]
  },
  {
   "cell_type": "markdown",
   "metadata": {},
   "source": [
    "There are no missing values in the training set."
   ]
  },
  {
   "cell_type": "code",
   "execution_count": 44,
   "metadata": {},
   "outputs": [
    {
     "data": {
      "text/html": [
       "<div>\n",
       "<style scoped>\n",
       "    .dataframe tbody tr th:only-of-type {\n",
       "        vertical-align: middle;\n",
       "    }\n",
       "\n",
       "    .dataframe tbody tr th {\n",
       "        vertical-align: top;\n",
       "    }\n",
       "\n",
       "    .dataframe thead th {\n",
       "        text-align: right;\n",
       "    }\n",
       "</style>\n",
       "<table border=\"1\" class=\"dataframe\">\n",
       "  <thead>\n",
       "    <tr style=\"text-align: right;\">\n",
       "      <th></th>\n",
       "      <th>TransactionId</th>\n",
       "      <th>BatchId</th>\n",
       "      <th>AccountId</th>\n",
       "      <th>SubscriptionId</th>\n",
       "      <th>CustomerId</th>\n",
       "      <th>CurrencyCode</th>\n",
       "      <th>CountryCode</th>\n",
       "      <th>ProviderId</th>\n",
       "      <th>ProductId</th>\n",
       "      <th>ProductCategory</th>\n",
       "      <th>ChannelId</th>\n",
       "      <th>Amount</th>\n",
       "      <th>Value</th>\n",
       "      <th>TransactionStartTime</th>\n",
       "      <th>PricingStrategy</th>\n",
       "      <th>FraudResult</th>\n",
       "    </tr>\n",
       "  </thead>\n",
       "  <tbody>\n",
       "    <tr>\n",
       "      <th>0</th>\n",
       "      <td>TransactionId_76871</td>\n",
       "      <td>BatchId_36123</td>\n",
       "      <td>AccountId_3957</td>\n",
       "      <td>SubscriptionId_887</td>\n",
       "      <td>CustomerId_4406</td>\n",
       "      <td>UGX</td>\n",
       "      <td>256</td>\n",
       "      <td>ProviderId_6</td>\n",
       "      <td>ProductId_10</td>\n",
       "      <td>airtime</td>\n",
       "      <td>ChannelId_3</td>\n",
       "      <td>1000.0</td>\n",
       "      <td>1000</td>\n",
       "      <td>2018-11-15T02:18:49Z</td>\n",
       "      <td>2</td>\n",
       "      <td>0</td>\n",
       "    </tr>\n",
       "    <tr>\n",
       "      <th>1</th>\n",
       "      <td>TransactionId_73770</td>\n",
       "      <td>BatchId_15642</td>\n",
       "      <td>AccountId_4841</td>\n",
       "      <td>SubscriptionId_3829</td>\n",
       "      <td>CustomerId_4406</td>\n",
       "      <td>UGX</td>\n",
       "      <td>256</td>\n",
       "      <td>ProviderId_4</td>\n",
       "      <td>ProductId_6</td>\n",
       "      <td>financial_services</td>\n",
       "      <td>ChannelId_2</td>\n",
       "      <td>-20.0</td>\n",
       "      <td>20</td>\n",
       "      <td>2018-11-15T02:19:08Z</td>\n",
       "      <td>2</td>\n",
       "      <td>0</td>\n",
       "    </tr>\n",
       "    <tr>\n",
       "      <th>2</th>\n",
       "      <td>TransactionId_26203</td>\n",
       "      <td>BatchId_53941</td>\n",
       "      <td>AccountId_4229</td>\n",
       "      <td>SubscriptionId_222</td>\n",
       "      <td>CustomerId_4683</td>\n",
       "      <td>UGX</td>\n",
       "      <td>256</td>\n",
       "      <td>ProviderId_6</td>\n",
       "      <td>ProductId_1</td>\n",
       "      <td>airtime</td>\n",
       "      <td>ChannelId_3</td>\n",
       "      <td>500.0</td>\n",
       "      <td>500</td>\n",
       "      <td>2018-11-15T02:44:21Z</td>\n",
       "      <td>2</td>\n",
       "      <td>0</td>\n",
       "    </tr>\n",
       "    <tr>\n",
       "      <th>3</th>\n",
       "      <td>TransactionId_380</td>\n",
       "      <td>BatchId_102363</td>\n",
       "      <td>AccountId_648</td>\n",
       "      <td>SubscriptionId_2185</td>\n",
       "      <td>CustomerId_988</td>\n",
       "      <td>UGX</td>\n",
       "      <td>256</td>\n",
       "      <td>ProviderId_1</td>\n",
       "      <td>ProductId_21</td>\n",
       "      <td>utility_bill</td>\n",
       "      <td>ChannelId_3</td>\n",
       "      <td>20000.0</td>\n",
       "      <td>21800</td>\n",
       "      <td>2018-11-15T03:32:55Z</td>\n",
       "      <td>2</td>\n",
       "      <td>0</td>\n",
       "    </tr>\n",
       "    <tr>\n",
       "      <th>4</th>\n",
       "      <td>TransactionId_28195</td>\n",
       "      <td>BatchId_38780</td>\n",
       "      <td>AccountId_4841</td>\n",
       "      <td>SubscriptionId_3829</td>\n",
       "      <td>CustomerId_988</td>\n",
       "      <td>UGX</td>\n",
       "      <td>256</td>\n",
       "      <td>ProviderId_4</td>\n",
       "      <td>ProductId_6</td>\n",
       "      <td>financial_services</td>\n",
       "      <td>ChannelId_2</td>\n",
       "      <td>-644.0</td>\n",
       "      <td>644</td>\n",
       "      <td>2018-11-15T03:34:21Z</td>\n",
       "      <td>2</td>\n",
       "      <td>0</td>\n",
       "    </tr>\n",
       "  </tbody>\n",
       "</table>\n",
       "</div>"
      ],
      "text/plain": [
       "         TransactionId         BatchId       AccountId       SubscriptionId  \\\n",
       "0  TransactionId_76871   BatchId_36123  AccountId_3957   SubscriptionId_887   \n",
       "1  TransactionId_73770   BatchId_15642  AccountId_4841  SubscriptionId_3829   \n",
       "2  TransactionId_26203   BatchId_53941  AccountId_4229   SubscriptionId_222   \n",
       "3    TransactionId_380  BatchId_102363   AccountId_648  SubscriptionId_2185   \n",
       "4  TransactionId_28195   BatchId_38780  AccountId_4841  SubscriptionId_3829   \n",
       "\n",
       "        CustomerId CurrencyCode  CountryCode    ProviderId     ProductId  \\\n",
       "0  CustomerId_4406          UGX          256  ProviderId_6  ProductId_10   \n",
       "1  CustomerId_4406          UGX          256  ProviderId_4   ProductId_6   \n",
       "2  CustomerId_4683          UGX          256  ProviderId_6   ProductId_1   \n",
       "3   CustomerId_988          UGX          256  ProviderId_1  ProductId_21   \n",
       "4   CustomerId_988          UGX          256  ProviderId_4   ProductId_6   \n",
       "\n",
       "      ProductCategory    ChannelId   Amount  Value  TransactionStartTime  \\\n",
       "0             airtime  ChannelId_3   1000.0   1000  2018-11-15T02:18:49Z   \n",
       "1  financial_services  ChannelId_2    -20.0     20  2018-11-15T02:19:08Z   \n",
       "2             airtime  ChannelId_3    500.0    500  2018-11-15T02:44:21Z   \n",
       "3        utility_bill  ChannelId_3  20000.0  21800  2018-11-15T03:32:55Z   \n",
       "4  financial_services  ChannelId_2   -644.0    644  2018-11-15T03:34:21Z   \n",
       "\n",
       "   PricingStrategy  FraudResult  \n",
       "0                2            0  \n",
       "1                2            0  \n",
       "2                2            0  \n",
       "3                2            0  \n",
       "4                2            0  "
      ]
     },
     "execution_count": 44,
     "metadata": {},
     "output_type": "execute_result"
    }
   ],
   "source": [
    "training.head()"
   ]
  },
  {
   "cell_type": "markdown",
   "metadata": {},
   "source": [
    "### Feature Definitions\n",
    "| Feature Name          | Definition                                                                                                        |\n",
    "|----------------------|-------------------------------------------------------------------------------------------------------------------|\n",
    "| TransactionId        | Unique transaction identifier on platform                                                                      |\n",
    "| BatchId              | Unique number assigned to a batch of transactions for processing                                                  |\n",
    "| AccountId            | Unique number identifying the customer on platform                                                                |\n",
    "| SubscriptionId       | Unique number identifying the customer subscription                                                               |\n",
    "| CustomerId           | Unique identifier attached to Account                                                                             |\n",
    "| CurrencyCode         | Country currency                                                                                                  |\n",
    "| CountryCode          | Numerical geographical code of country                                                                            |\n",
    "| ProviderId           | Source provider of Item ÔøΩbought.                                                                                |\n",
    "| ProductId            | Item name being bought.                                                                                           |\n",
    "| ProductCategory      | ProductIds are organized into these broader product categories.                                                   |\n",
    "| ChannelId            | Identifies if customer used web,Android, IOS, pay later or checkout.                                              |\n",
    "| Amount               | Value of the transaction. Positive for debits from customer account and negative for credit into customer account |\n",
    "| Value                | Absolute value of the amount                                                                                      |\n",
    "| TransactionStartTime | Transaction start time                                                                                            |\n",
    "| PricingStrategy      | Category of Xente's pricing structure for merchants                                                               |\n",
    "| FraudResult          | Fraud status of transaction 1 -yes or 0-No                                                                        |"
   ]
  },
  {
   "cell_type": "code",
   "execution_count": 45,
   "metadata": {},
   "outputs": [
    {
     "data": {
      "image/png": "[encoded data removed]",
      "text/plain": [
       "<Figure size 432x288 with 1 Axes>"
      ]
     },
     "metadata": {
      "needs_background": "light"
     },
     "output_type": "display_data"
    }
   ],
   "source": [
    "sns.countplot(\"FraudResult\", data=training)\n",
    "plt.show()"
   ]
  },
  {
   "cell_type": "code",
   "execution_count": 46,
   "metadata": {},
   "outputs": [
    {
     "data": {
      "image/png": "[encoded data removed]",
      "text/plain": [
       "<Figure size 432x288 with 2 Axes>"
      ]
     },
     "metadata": {
      "needs_background": "light"
     },
     "output_type": "display_data"
    }
   ],
   "source": [
    "sns.heatmap(training.corr())\n",
    "plt.show()"
   ]
  },
  {
   "cell_type": "markdown",
   "metadata": {},
   "source": [
    "Currently only 4 numerical variables can be correlated. The only variables with correlation are Value and Amount, because Amount is the modulus of Value."
   ]
  },
  {
   "cell_type": "markdown",
   "metadata": {},
   "source": [
    "### Feature Engineering\n",
    "Features added:\n",
    "- One-hot encoded features for all categorical variables\n",
    "- Withdrawal / deposit boolean\n",
    "- Difference in transaction value with previous transaction made by same account (first transactions filled with mean value)\n",
    "- Time since previous transaction made by same account (first transactions filled with mean value)\n",
    "- Difference between transaction amount/value and average account amount/value\n",
    "\t- stratified by Category\n",
    "\t- stratified by Provider\n",
    "\t- stratified by Product\n",
    "\t- Stratified by Channel\n",
    "- Difference from average account transaction time (hour)\n",
    "- Total account transactions in same hour\n",
    "- Decomposition of DateTime feature (Hour, Day of week, Day)\n",
    "- Difference from average overall transaction time\n",
    "\t- stratified by Category / Provider / Product / Channel"
   ]
  },
  {
   "cell_type": "code",
   "execution_count": 47,
   "metadata": {},
   "outputs": [
    {
     "name": "stderr",
     "output_type": "stream",
     "text": [
      "/Users/tom/miniconda3/lib/python3.7/site-packages/ipykernel_launcher.py:22: SettingWithCopyWarning: \n",
      "A value is trying to be set on a copy of a slice from a DataFrame\n",
      "\n",
      "See the caveats in the documentation: http://pandas.pydata.org/pandas-docs/stable/indexing.html#indexing-view-versus-copy\n",
      "/Users/tom/miniconda3/lib/python3.7/site-packages/ipykernel_launcher.py:29: SettingWithCopyWarning: \n",
      "A value is trying to be set on a copy of a slice from a DataFrame\n",
      "\n",
      "See the caveats in the documentation: http://pandas.pydata.org/pandas-docs/stable/indexing.html#indexing-view-versus-copy\n"
     ]
    }
   ],
   "source": [
    "training = pd.read_csv('training.csv')\n",
    "knownfraud = list(training[training['FraudResult'] == 1]['AccountId'])\n",
    "\n",
    "def add_features(df):\n",
    "    \n",
    "    # Store index\n",
    "    idx = df.index\n",
    "    \n",
    "    df['TransactionStartTime'] = pd.to_datetime(df['TransactionStartTime'])\n",
    "    training['Time'] = training['TransactionStartTime'].dt.hour * 60 + training['TransactionStartTime'].dt.minute\n",
    "    \n",
    "    for col in ('ProviderId', 'ProductId', 'ProductCategory', 'ChannelId'):\n",
    "         for_dummy = df[col]\n",
    "         df = pd.concat([df, pd.get_dummies(for_dummy, prefix=col)], axis=1)\n",
    "    \n",
    "    # Difference with previous transaction amount\n",
    "    \n",
    "    df = df.sort_values(['AccountId', 'TransactionStartTime'], ascending=True)\n",
    "\n",
    "    df['Difference from previous transaction'] = df['Amount'].diff()\n",
    "    mask = df['AccountId'] != df['AccountId'].shift(1)\n",
    "    df['Difference from previous transaction'][mask] = np.nan\n",
    "    df['Difference from previous transaction'] = df['Difference from previous transaction'].fillna(df['Difference from previous transaction'].mean())\n",
    "\n",
    "    # Difference with previous transaction time\n",
    "\n",
    "    df['Time difference from previous transaction'] = df['TransactionStartTime'].diff()\n",
    "    mask = df['AccountId'] != df['AccountId'].shift(1)\n",
    "    df['Time difference from previous transaction'][mask] = np.nan\n",
    "    df['Time difference from previous transaction'] = df['Time difference from previous transaction'].fillna(df['Time difference from previous transaction'].mean())\n",
    "\n",
    "    df['DateNum'] = pd.to_numeric(df['Time difference from previous transaction'])\n",
    "\n",
    "    # Difference from average account transaction\n",
    "\n",
    "    df['Difference from Average Account'] = df.groupby('AccountId')['Value'].transform(lambda x: (x - x.mean()))\n",
    "    \n",
    "    # Difference from average account transaction by ProductCategory / ProviderId / ProductId\n",
    "    \n",
    "    df['CategoryDiffV'] = df.groupby(['AccountId', 'ProductCategory'])['Value'].transform(lambda x: (x - x.mean()))\n",
    "    df['CategoryDiffA'] = df.groupby(['AccountId', 'ProductCategory'])['Amount'].transform(lambda x: (x - x.mean()))\n",
    "    df['ProviderDiffV'] = df.groupby(['AccountId', 'ProviderId'])['Value'].transform(lambda x: (x - x.mean()))\n",
    "    df['ProviderDiffA'] = df.groupby(['AccountId', 'ProviderId'])['Amount'].transform(lambda x: (x - x.mean()))\n",
    "    df['ProductDiffV'] = df.groupby(['AccountId', 'ProductId'])['Value'].transform(lambda x: (x - x.mean()))\n",
    "    df['ProductDiffA'] = df.groupby(['AccountId', 'ProductId'])['Amount'].transform(lambda x: (x - x.mean()))\n",
    "    \n",
    "    # Difference from average account hour\n",
    "    df['Hour'] = df['TransactionStartTime'].dt.hour\n",
    "    df['DayofWeek'] = df['TransactionStartTime'].dt.weekday\n",
    "    df['Difference from Average Time'] = df.groupby('AccountId')['Hour'].transform(lambda x: (x - x.mean()))\n",
    "    \n",
    "    #Overall averages\n",
    "    df['Difference from Average Time Overall'] = df['Hour'].transform(lambda x: (x - x.mean()))\n",
    "    df['CategoryDiffOverallV'] = df.groupby(['ProductCategory'])['Value'].transform(lambda x: (x - x.mean()))\n",
    "    df['CategoryDiffOverallA'] = df.groupby(['ProductCategory'])['Amount'].transform(lambda x: (x - x.mean()))\n",
    "    df['ProviderDiffOverallV'] = df.groupby(['ProviderId'])['Value'].transform(lambda x: (x - x.mean()))\n",
    "    df['ProviderDiffOverallA'] = df.groupby(['ProviderId'])['Amount'].transform(lambda x: (x - x.mean()))\n",
    "    df['ProductDiffOverallV'] = df.groupby(['ProviderId'])['Value'].transform(lambda x: (x - x.mean()))\n",
    "    df['ProductDiffOverallA'] = df.groupby(['ProviderId'])['Amount'].transform(lambda x: (x - x.mean()))\n",
    "    \n",
    "    df = df.reindex(idx)\n",
    "    \n",
    "    return df\n",
    "    \n",
    "training = add_features(training)"
   ]
  },
  {
   "cell_type": "markdown",
   "metadata": {},
   "source": [
    "### Further Visualisation"
   ]
  },
  {
   "cell_type": "code",
   "execution_count": 48,
   "metadata": {},
   "outputs": [
    {
     "data": {
      "image/png": "[encoded data removed]",
      "text/plain": [
       "<Figure size 936x1584 with 8 Axes>"
      ]
     },
     "metadata": {
      "needs_background": "light"
     },
     "output_type": "display_data"
    }
   ],
   "source": [
    "fraud = training[training['FraudResult'] == 1]\n",
    "genuine = training[training['FraudResult'] == 0]\n",
    "\n",
    "fig = plt.figure(figsize=(13,22))\n",
    "\n",
    "plt.subplot(421)\n",
    "plt.title('Time of day')\n",
    "plt.hist(fraud['Time'], density=True, alpha=0.5)\n",
    "plt.hist(genuine['Time'], density=True, alpha=0.5)\n",
    "plt.xlabel('Minutes past midnight')\n",
    "plt.legend(['Fraud', 'Genuine'])\n",
    "\n",
    "plt.subplot(422)\n",
    "plt.title('Value')\n",
    "plt.hist(fraud['Value'], density=True, alpha=0.5)\n",
    "plt.hist(genuine['Value'], density=True, alpha=0.5)\n",
    "plt.xlabel('UGX')\n",
    "plt.legend(['Fraud', 'Genuine'])\n",
    "\n",
    "plt.subplot(423)\n",
    "plt.title('Amount')\n",
    "plt.hist(fraud['Amount'], density=True, alpha=0.5)\n",
    "plt.hist(genuine['Amount'], density=True, alpha=0.5)\n",
    "plt.xlabel('UGX')\n",
    "plt.legend(['Fraud', 'Genuine'])\n",
    "\n",
    "plt.subplot(424)\n",
    "plt.title('Difference from account average transaction')\n",
    "plt.hist(fraud['Difference from Average Account'], density=True, alpha=0.5)\n",
    "plt.hist(genuine['Difference from Average Account'], density=True, alpha=0.5)\n",
    "plt.xlabel('UGX')\n",
    "plt.legend(['Fraud', 'Genuine'])\n",
    "\n",
    "ax1 = fig.add_subplot(425)\n",
    "data = training.groupby('FraudResult')['ChannelId'].value_counts(normalize=True).unstack()\n",
    "data.plot(kind='barh', ax=ax1)\n",
    "plt.title('ChannelId')\n",
    "plt.xlabel('Density')\n",
    "\n",
    "ax2 = fig.add_subplot(426)\n",
    "data = training.groupby('FraudResult')['DayofWeek'].value_counts(normalize=True).unstack()\n",
    "data.plot(kind='barh', ax=ax2)\n",
    "plt.title('Day of week')\n",
    "plt.xlabel('Density')\n",
    "\n",
    "ax3 = fig.add_subplot(427)\n",
    "data = training.groupby('FraudResult')['ProductCategory'].value_counts(normalize=True).unstack()\n",
    "data.plot(kind='barh', ax=ax3)\n",
    "plt.title('Product Category')\n",
    "plt.xlabel('Density')\n",
    "\n",
    "ax3 = fig.add_subplot(428)\n",
    "data = training.groupby('FraudResult')['ProviderId'].value_counts(normalize=True).unstack()\n",
    "data.plot(kind='barh', ax=ax3)\n",
    "plt.title('ProviderId')\n",
    "plt.xlabel('Density')\n",
    "\n",
    "\n",
    "\n",
    "plt.show()"
   ]
  },
  {
   "cell_type": "markdown",
   "metadata": {},
   "source": [
    "Observations:\n",
    "- Relatively more fraudulent transactions seem to be made via ChannelId_3, which is the iOS operating system\n",
    "- There is a spike in genuine transactions on weekday 4 (Friday), not seen in fraudulent transactions\n",
    "- Fraudulent transactions appear to be larger in value and larger than average genuine transactions by account\n",
    "- Difficult to say whether there is a difference in time distributions, possibly a spike in fraudulent transactions at around midday.\n",
    "- Differences also in ProviderId and ProductCategory, although these may also not be significant due to the small number of fraudulent samples."
   ]
  },
  {
   "cell_type": "markdown",
   "metadata": {},
   "source": [
    "### Data preparation\n",
    "- Some categorical values present in test set but not in training set and vice versa, leading to a mismatch in the number of columns. The missing columns were added to both datasets, being careful to then reorder columns to match between the two.\n",
    "- Feature scaling necessary for non-decision tree based classifiers\n",
    "- Columns with non-numerical values unsuitable for input to classifier removed\n",
    "- Dataframes converted to numpy array for classifier input"
   ]
  },
  {
   "cell_type": "code",
   "execution_count": 49,
   "metadata": {},
   "outputs": [],
   "source": [
    "# Add features in test but not training set\n",
    "for col in list(set(test.columns) - set(training.columns)):\n",
    "    training[col] = 0\n",
    "\n",
    "# Add features in training but not test set\n",
    "for col in list(set(training.columns) - set(test.columns)):\n",
    "    test[col] = 0\n",
    "\n",
    "X = training.drop(['TransactionId', 'BatchId', 'AccountId', 'SubscriptionId', 'CustomerId', 'CurrencyCode',\n",
    "                   'CountryCode', 'ProviderId', 'ProductId', 'ProductCategory', 'ChannelId', 'TransactionStartTime',\n",
    "                   'FraudResult', 'Time difference from previous transaction'], axis=1)\n",
    "\n",
    "X_test = test.drop(['TransactionId', 'BatchId', 'AccountId', 'SubscriptionId', 'CustomerId', 'CurrencyCode',\n",
    "                    'CountryCode', 'ProviderId', 'ProductId', 'ProductCategory', 'ChannelId', 'TransactionStartTime',\n",
    "                    'FraudResult', 'Time difference from previous transaction'], axis=1)\n",
    "\n",
    "# Match column order between training and test sets\n",
    "X_test = X_test[X.columns]\n",
    "\n",
    "features = X.columns\n",
    "\n",
    "X = X.values\n",
    "#X = StandardScaler().fit_transform(X)\n",
    "X_test = X_test.values\n",
    "#X_test = StandardScaler().fit_transform(X_test)\n",
    "y = training['FraudResult'].values"
   ]
  },
  {
   "cell_type": "code",
   "execution_count": 50,
   "metadata": {},
   "outputs": [],
   "source": [
    "# Isolate features\n",
    "\n",
    "# training['Amount over 499000'] = (training['Amount'] > 499000)*1\n",
    "# X = training[['Simple','Difference from previous transaction']].values\n",
    "# features = ['Simple','Difference from previous transaction']"
   ]
  },
  {
   "cell_type": "markdown",
   "metadata": {},
   "source": [
    "### Model Evaluation\n",
    "- Used F1 scoring as this is the metric on which the competition solutions are ranked\n",
    "- K fold cross validation with a mean cross validated score and mean confusion matrix\n",
    "- Compared a range of classifiers from Scikit-learn, most of which performed poorly (Naive bayes, SVM, Logistic Regression)\n",
    "- Decision trees performed best, with no significant improvement in performance from Random Forest ensembles"
   ]
  },
  {
   "cell_type": "code",
   "execution_count": 51,
   "metadata": {},
   "outputs": [],
   "source": [
    "def f1_scorer(clf, X, y):\n",
    "\n",
    "    y_pred = clf.predict(X)\n",
    "\n",
    "    return f1_score(y, y_pred)\n",
    "\n",
    "def cross_validation_score_f1(clf, X, y, cv):\n",
    "\n",
    "    cv_score = 0\n",
    "    train_score = 0\n",
    "    val_score = 0\n",
    "    cm = np.zeros([2,2])\n",
    "\n",
    "    skf = StratifiedKFold(n_splits=cv, random_state=1, shuffle=False)\n",
    "\n",
    "    for train_index, val_index in skf.split(X, y):\n",
    "\n",
    "        \n",
    "        clf.fit(X[train_index], y[train_index])\n",
    "\n",
    "        train_score = f1_scorer(clf, X[train_index], y[train_index])\n",
    "        val_score = f1_scorer(clf, X[val_index], y[val_index])\n",
    "\n",
    "        print(\"Train F1: {} Test F1: {}\".format(train_score, val_score))\n",
    "\n",
    "        cv_score += val_score\n",
    "        \n",
    "        y_pred = clf.predict(X[val_index])\n",
    "        cm += confusion_matrix(y[val_index], y_pred)\n",
    "        \n",
    "    print('Mean confusion matrix:')\n",
    "    print(np.round(cm/cv, 1))\n",
    "\n",
    "    return cv_score / cv"
   ]
  },
  {
   "cell_type": "code",
   "execution_count": 52,
   "metadata": {},
   "outputs": [
    {
     "name": "stdout",
     "output_type": "stream",
     "text": [
      "Random Forest\n",
      "Train F1: 0.12484993997599039 Test F1: 0.11566265060240964\n",
      "Train F1: 0.08408728046833422 Test F1: 0.1103448275862069\n",
      "Train F1: 0.14137775776677172 Test F1: 0.10109890109890109\n",
      "Train F1: 0.13520408163265304 Test F1: 0.14728682170542634\n",
      "Train F1: 0.10633254317643075 Test F1: 0.11000000000000001\n",
      "Train F1: 0.1083537224746592 Test F1: 0.09895833333333333\n",
      "Train F1: 0.10618279569892473 Test F1: 0.09696969696969697\n",
      "Train F1: 0.10688591983556013 Test F1: 0.10849056603773585\n",
      "Mean confusion matrix:\n",
      "[[1.15718e+04 3.61900e+02]\n",
      " [1.90000e+00 2.22000e+01]]\n",
      "Cross-validated F1 score: 0.11110147466671377\n"
     ]
    }
   ],
   "source": [
    "clf = naive_bayes.BernoulliNB()\n",
    "print(\"Naive Bayes\")\n",
    "score = cross_validation_score_f1(clf, X, y, 8)\n",
    "print(\"Cross-validated F1 score: {}\".format(score))"
   ]
  },
  {
   "cell_type": "code",
   "execution_count": 88,
   "metadata": {},
   "outputs": [
    {
     "name": "stdout",
     "output_type": "stream",
     "text": [
      "Decision Tree\n",
      "Train F1: 1.0 Test F1: 0.9433962264150945\n",
      "Train F1: 1.0 Test F1: 0.8461538461538461\n",
      "Train F1: 1.0 Test F1: 0.9199999999999999\n",
      "Train F1: 1.0 Test F1: 0.8372093023255814\n",
      "Train F1: 1.0 Test F1: 0.5555555555555556\n",
      "Train F1: 1.0 Test F1: 0.6181818181818182\n",
      "Train F1: 1.0 Test F1: 0.8\n",
      "Train F1: 1.0 Test F1: 0.9387755102040817\n",
      "Mean confusion matrix:\n",
      "[[1.1929e+04 4.6000e+00]\n",
      " [4.4000e+00 1.9800e+01]]\n",
      "Cross-validated F1 score: 0.8074090323544971\n"
     ]
    }
   ],
   "source": [
    "dtc = tree.DecisionTreeClassifier(criterion='entropy')\n",
    "print(\"Decision Tree\")\n",
    "score = cross_validation_score_f1(dtc, X, y, 8)\n",
    "print(\"Cross-validated F1 score: {}\".format(score))"
   ]
  },
  {
   "cell_type": "code",
   "execution_count": 86,
   "metadata": {},
   "outputs": [
    {
     "name": "stdout",
     "output_type": "stream",
     "text": [
      "Random Forest\n"
     ]
    },
    {
     "name": "stderr",
     "output_type": "stream",
     "text": [
      "/Users/tom/miniconda3/lib/python3.7/site-packages/sklearn/ensemble/forest.py:246: FutureWarning: The default value of n_estimators will change from 10 in version 0.20 to 100 in 0.22.\n",
      "  \"10 in version 0.20 to 100 in 0.22.\", FutureWarning)\n"
     ]
    },
    {
     "name": "stdout",
     "output_type": "stream",
     "text": [
      "Train F1: 0.9970149253731343 Test F1: 0.9795918367346939\n",
      "Train F1: 1.0 Test F1: 0.9361702127659574\n",
      "Train F1: 0.9910447761194029 Test F1: 0.9600000000000001\n",
      "Train F1: 0.9820359281437127 Test F1: 0.8292682926829268\n",
      "Train F1: 0.9910447761194029 Test F1: 0.5\n",
      "Train F1: 0.9910447761194029 Test F1: 0.6363636363636365\n",
      "Train F1: 0.9849849849849849 Test F1: 0.7555555555555556\n",
      "Train F1: 0.9821428571428571 Test F1: 0.9361702127659574\n",
      "Mean confusion matrix:\n",
      "[[1.19315e+04 2.10000e+00]\n",
      " [5.50000e+00 1.86000e+01]]\n",
      "Cross-validated F1 score: 0.816639968358591\n"
     ]
    }
   ],
   "source": [
    "rf = ensemble.RandomForestClassifier()\n",
    "print(\"Random Forest\")\n",
    "score = cross_validation_score_f1(rf, X, y, 8)\n",
    "print(\"Cross-validated F1 score: {}\".format(score))"
   ]
  },
  {
   "cell_type": "markdown",
   "metadata": {},
   "source": [
    "### Feature Importances"
   ]
  },
  {
   "cell_type": "code",
   "execution_count": 83,
   "metadata": {},
   "outputs": [
    {
     "name": "stdout",
     "output_type": "stream",
     "text": [
      "Feature                                 Decision Tree Importance Random Forest Importance\n",
      "------------------------------------------------------------------------------------------\n",
      "Amount                                                  0.00                     0.05\n",
      "Value                                                   0.90                     0.18\n",
      "PricingStrategy                                         0.00                     0.00\n",
      "Time                                                    0.00                     0.00\n",
      "ProviderId_ProviderId_1                                 0.00                     0.00\n",
      "ProviderId_ProviderId_2                                 0.00                     0.00\n",
      "ProviderId_ProviderId_3                                 0.00                     0.00\n",
      "ProviderId_ProviderId_4                                 0.00                     0.00\n",
      "ProviderId_ProviderId_5                                 0.00                     0.00\n",
      "ProviderId_ProviderId_6                                 0.00                     0.00\n",
      "ProductId_ProductId_1                                   0.00                     0.00\n",
      "ProductId_ProductId_10                                  0.00                     0.00\n",
      "ProductId_ProductId_11                                  0.00                     0.00\n",
      "ProductId_ProductId_12                                  0.00                     0.00\n",
      "ProductId_ProductId_13                                  0.00                     0.00\n",
      "ProductId_ProductId_14                                  0.00                     0.00\n",
      "ProductId_ProductId_15                                  0.00                     0.00\n",
      "ProductId_ProductId_16                                  0.00                     0.00\n",
      "ProductId_ProductId_19                                  0.00                     0.00\n",
      "ProductId_ProductId_2                                   0.00                     0.00\n",
      "ProductId_ProductId_20                                  0.00                     0.00\n",
      "ProductId_ProductId_21                                  0.00                     0.00\n",
      "ProductId_ProductId_22                                  0.00                     0.00\n",
      "ProductId_ProductId_23                                  0.00                     0.00\n",
      "ProductId_ProductId_24                                  0.00                     0.00\n",
      "ProductId_ProductId_27                                  0.00                     0.00\n",
      "ProductId_ProductId_3                                   0.00                     0.00\n",
      "ProductId_ProductId_4                                   0.00                     0.00\n",
      "ProductId_ProductId_5                                   0.00                     0.00\n",
      "ProductId_ProductId_6                                   0.00                     0.00\n",
      "ProductId_ProductId_7                                   0.00                     0.00\n",
      "ProductId_ProductId_8                                   0.00                     0.00\n",
      "ProductId_ProductId_9                                   0.00                     0.00\n",
      "ProductCategory_airtime                                 0.00                     0.00\n",
      "ProductCategory_data_bundles                            0.00                     0.00\n",
      "ProductCategory_financial_services                      0.00                     0.00\n",
      "ProductCategory_movies                                  0.00                     0.00\n",
      "ProductCategory_other                                   0.00                     0.00\n",
      "ProductCategory_ticket                                  0.00                     0.00\n",
      "ProductCategory_transport                               0.00                     0.00\n",
      "ProductCategory_tv                                      0.00                     0.00\n",
      "ProductCategory_utility_bill                            0.00                     0.00\n",
      "ChannelId_ChannelId_1                                   0.00                     0.00\n",
      "ChannelId_ChannelId_2                                   0.00                     0.00\n",
      "ChannelId_ChannelId_3                                   0.00                     0.00\n",
      "ChannelId_ChannelId_5                                   0.00                     0.00\n",
      "Difference from previous transaction                    0.00                     0.00\n",
      "DateNum                                                 0.00                     0.00\n",
      "Difference from Average Account                         0.00                     0.06\n",
      "CategoryDiffV                                           0.00                     0.01\n",
      "CategoryDiffA                                           0.00                     0.00\n",
      "ProviderDiffV                                           0.00                     0.07\n",
      "ProviderDiffA                                           0.00                     0.00\n",
      "ProductDiffV                                            0.00                     0.00\n",
      "ProductDiffA                                            0.00                     0.05\n",
      "Hour                                                    0.00                     0.00\n",
      "DayofWeek                                               0.00                     0.00\n",
      "Difference from Average Time                            0.00                     0.00\n",
      "Difference from Average Time Overall                    0.00                     0.00\n",
      "CategoryDiffOverallV                                    0.00                     0.14\n",
      "CategoryDiffOverallA                                    0.06                     0.10\n",
      "ProviderDiffOverallV                                    0.00                     0.01\n",
      "ProviderDiffOverallA                                    0.00                     0.01\n",
      "ProductDiffOverallV                                     0.04                     0.18\n",
      "ProductDiffOverallA                                     0.00                     0.11\n"
     ]
    }
   ],
   "source": [
    "dtc.fit(X, y)\n",
    "rf.fit(X, y)\n",
    "\n",
    "print('{:<40s}{:>20s}{:>25s}'.format(\"Feature\",\"Decision Tree Importance\",\"Random Forest Importance\"))\n",
    "print('-' * 90)\n",
    "for f, d, r in zip(features, dtc.feature_importances_, rf.feature_importances_):\n",
    "    print('{:<40s}{:>20.2f}{:>25.2f}'.format(f,d,r))"
   ]
  },
  {
   "cell_type": "markdown",
   "metadata": {},
   "source": [
    "- Noticed a strong preference towards *Value*, *Amount* features\n",
    "- Huge performance drop (models appear to have no predictive power) when these features and all those derived from them are removed\n",
    "- Random forest model tends to draw more evenly from a range of *Amount* and *Value* derived features, but performs no better so is most likely overfitting.\n",
    "- Seems unlikely that fraudulent transactions could be identified purely based on their amount. This lead me to investigate by trimming the decision trees and examining the result."
   ]
  },
  {
   "cell_type": "markdown",
   "metadata": {},
   "source": [
    "### Trimmed decision tree"
   ]
  },
  {
   "cell_type": "code",
   "execution_count": 92,
   "metadata": {},
   "outputs": [
    {
     "name": "stdout",
     "output_type": "stream",
     "text": [
      "Trimmed Decision Tree\n",
      "Train F1: 0.7924528301886793 Test F1: 0.9433962264150945\n",
      "Train F1: 0.8065395095367849 Test F1: 0.8421052631578948\n",
      "Train F1: 0.8032345013477088 Test F1: 0.7741935483870968\n",
      "Train F1: 0.7883597883597884 Test F1: 0.8260869565217391\n",
      "Train F1: 0.8511749347258486 Test F1: 0.4390243902439025\n",
      "Train F1: 0.8346883468834688 Test F1: 0.6545454545454547\n",
      "Train F1: 0.7925531914893617 Test F1: 0.8421052631578948\n",
      "Train F1: 0.8021680216802167 Test F1: 0.8727272727272727\n",
      "Mean confusion matrix:\n",
      "[[1.19254e+04 8.20000e+00]\n",
      " [3.20000e+00 2.09000e+01]]\n",
      "Cross-validated F1 score: 0.7742730468945438\n"
     ]
    },
    {
     "data": {
      "image/svg+xml": [
       "<svg height=\"195pt\" viewBox=\"0.00 0.00 266.00 195.00\" width=\"266pt\" xmlns=\"http://www.w3.org/2000/svg\" xmlns:xlink=\"http://www.w3.org/1999/xlink\">\n",
       "<g class=\"graph\" id=\"graph0\" transform=\"scale(1 1) rotate(0) translate(4 191)\">\n",
       "<title>Tree</title>\n",
       "<polygon fill=\"#ffffff\" points=\"-4,4 -4,-191 262,-191 262,4 -4,4\" stroke=\"transparent\"/>\n",
       "<!-- 0 -->\n",
       "<g class=\"node\" id=\"node1\">\n",
       "<title>0</title>\n",
       "<polygon fill=\"#e58139\" fill-opacity=\"0.996078\" points=\"199.5,-187 65.5,-187 65.5,-104 199.5,-104 199.5,-187\" stroke=\"#000000\"/>\n",
       "<text fill=\"#000000\" font-family=\"Times,serif\" font-size=\"14.00\" text-anchor=\"middle\" x=\"132.5\" y=\"-171.8\">Value &lt;= 495000.0</text>\n",
       "<text fill=\"#000000\" font-family=\"Times,serif\" font-size=\"14.00\" text-anchor=\"middle\" x=\"132.5\" y=\"-156.8\">entropy = 0.021</text>\n",
       "<text fill=\"#000000\" font-family=\"Times,serif\" font-size=\"14.00\" text-anchor=\"middle\" x=\"132.5\" y=\"-141.8\">samples = 83705</text>\n",
       "<text fill=\"#000000\" font-family=\"Times,serif\" font-size=\"14.00\" text-anchor=\"middle\" x=\"132.5\" y=\"-126.8\">value = [83536, 169]</text>\n",
       "<text fill=\"#000000\" font-family=\"Times,serif\" font-size=\"14.00\" text-anchor=\"middle\" x=\"132.5\" y=\"-111.8\">class = 0</text>\n",
       "</g>\n",
       "<!-- 1 -->\n",
       "<g class=\"node\" id=\"node2\">\n",
       "<title>1</title>\n",
       "<polygon fill=\"#e58139\" points=\"127,-68 0,-68 0,0 127,0 127,-68\" stroke=\"#000000\"/>\n",
       "<text fill=\"#000000\" font-family=\"Times,serif\" font-size=\"14.00\" text-anchor=\"middle\" x=\"63.5\" y=\"-52.8\">entropy = 0.003</text>\n",
       "<text fill=\"#000000\" font-family=\"Times,serif\" font-size=\"14.00\" text-anchor=\"middle\" x=\"63.5\" y=\"-37.8\">samples = 83505</text>\n",
       "<text fill=\"#000000\" font-family=\"Times,serif\" font-size=\"14.00\" text-anchor=\"middle\" x=\"63.5\" y=\"-22.8\">value = [83484, 21]</text>\n",
       "<text fill=\"#000000\" font-family=\"Times,serif\" font-size=\"14.00\" text-anchor=\"middle\" x=\"63.5\" y=\"-7.8\">class = 0</text>\n",
       "</g>\n",
       "<!-- 0&#45;&gt;1 -->\n",
       "<g class=\"edge\" id=\"edge1\">\n",
       "<title>0-&gt;1</title>\n",
       "<path d=\"M106.8069,-103.9815C101.3469,-95.1585 95.5716,-85.8258 90.0793,-76.9506\" fill=\"none\" stroke=\"#000000\"/>\n",
       "<polygon fill=\"#000000\" points=\"92.942,-74.9254 84.7035,-68.2637 86.9896,-78.609 92.942,-74.9254\" stroke=\"#000000\"/>\n",
       "<text fill=\"#000000\" font-family=\"Times,serif\" font-size=\"14.00\" text-anchor=\"middle\" x=\"78.9738\" y=\"-88.8982\">True</text>\n",
       "</g>\n",
       "<!-- 2 -->\n",
       "<g class=\"node\" id=\"node3\">\n",
       "<title>2</title>\n",
       "<polygon fill=\"#399de5\" fill-opacity=\"0.647059\" points=\"258,-68 145,-68 145,0 258,0 258,-68\" stroke=\"#000000\"/>\n",
       "<text fill=\"#000000\" font-family=\"Times,serif\" font-size=\"14.00\" text-anchor=\"middle\" x=\"201.5\" y=\"-52.8\">entropy = 0.827</text>\n",
       "<text fill=\"#000000\" font-family=\"Times,serif\" font-size=\"14.00\" text-anchor=\"middle\" x=\"201.5\" y=\"-37.8\">samples = 200</text>\n",
       "<text fill=\"#000000\" font-family=\"Times,serif\" font-size=\"14.00\" text-anchor=\"middle\" x=\"201.5\" y=\"-22.8\">value = [52, 148]</text>\n",
       "<text fill=\"#000000\" font-family=\"Times,serif\" font-size=\"14.00\" text-anchor=\"middle\" x=\"201.5\" y=\"-7.8\">class = 1</text>\n",
       "</g>\n",
       "<!-- 0&#45;&gt;2 -->\n",
       "<g class=\"edge\" id=\"edge2\">\n",
       "<title>0-&gt;2</title>\n",
       "<path d=\"M158.1931,-103.9815C163.6531,-95.1585 169.4284,-85.8258 174.9207,-76.9506\" fill=\"none\" stroke=\"#000000\"/>\n",
       "<polygon fill=\"#000000\" points=\"178.0104,-78.609 180.2965,-68.2637 172.058,-74.9254 178.0104,-78.609\" stroke=\"#000000\"/>\n",
       "<text fill=\"#000000\" font-family=\"Times,serif\" font-size=\"14.00\" text-anchor=\"middle\" x=\"186.0262\" y=\"-88.8982\">False</text>\n",
       "</g>\n",
       "</g>\n",
       "</svg>"
      ],
      "text/plain": [
       "<IPython.core.display.SVG object>"
      ]
     },
     "metadata": {},
     "output_type": "display_data"
    }
   ],
   "source": [
    "dtctrimmed = tree.DecisionTreeClassifier(criterion='entropy', max_depth=1)\n",
    "dtctrimmed.fit(X, y)\n",
    "\n",
    "print(\"Trimmed Decision Tree\")\n",
    "score = cross_validation_score_f1(dtctrimmed, X, y, 8)\n",
    "print(\"Cross-validated F1 score: {}\".format(score))\n",
    "\n",
    "graph = Source(tree.export_graphviz(dtctrimmed, out_file=None\n",
    "   , feature_names=features, class_names=['0', '1'] \n",
    "   , filled = True))\n",
    "display(SVG(graph.pipe(format='svg')))"
   ]
  },
  {
   "cell_type": "markdown",
   "metadata": {},
   "source": [
    "## Conclusions\n",
    "- By limiting the depth of the decision tree to a single layer, we can see that the same score can be achieved by simply predicting that all withdrawals over 495000UGX are fraudulent. \n",
    "- This suggests that there is no further predictive power to be found in any of the wide range of additional engineered features\n",
    "- I suspect based on this analysis that unless it is possible to engineer better features not considered here, any score higher than 0.7 attained on the competition leaderboard is due to luck rather than predictive power."
   ]
  },
  {
   "cell_type": "markdown",
   "metadata": {},
   "source": [
    "### Output csv file for competition submission"
   ]
  },
  {
   "cell_type": "code",
   "execution_count": 57,
   "metadata": {},
   "outputs": [],
   "source": [
    "test_preds = dtc.predict(X_test)\n",
    "output = pd.DataFrame()\n",
    "test = pd.read_csv('test.csv')\n",
    "output['TransactionId'] = test['TransactionId']\n",
    "output['FraudResult'] = test_preds\n",
    "output.to_csv('submission.csv', index=False)"
   ]
  }
 ],
 "metadata": {
  "kernelspec": {
   "display_name": "Python 3",
   "language": "python",
   "name": "python3"
  },
  "language_info": {
   "codemirror_mode": {
    "name": "ipython",
    "version": 3
   },
   "file_extension": ".py",
   "mimetype": "text/x-python",
   "name": "python",
   "nbconvert_exporter": "python",
   "pygments_lexer": "ipython3",
   "version": "3.7.2"
  }
 },
 "nbformat": 4,
 "nbformat_minor": 1
}
